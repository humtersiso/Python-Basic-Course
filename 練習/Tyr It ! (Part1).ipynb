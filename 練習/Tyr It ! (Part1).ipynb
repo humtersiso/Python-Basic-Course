{
 "cells": [
  {
   "cell_type": "markdown",
   "metadata": {},
   "source": [
    "# Try it (Part1) !!\n",
    "* 試試看你學會了多少\n",
    "* 有些問題不是只有一種解法"
   ]
  },
  {
   "cell_type": "markdown",
   "metadata": {},
   "source": [
    "***"
   ]
  },
  {
   "cell_type": "markdown",
   "metadata": {},
   "source": [
    "<img src=\"1.jpg\" width=\"90%\">"
   ]
  },
  {
   "cell_type": "markdown",
   "metadata": {},
   "source": [
    "####  Q1 在Python3中，計算 `14%2.0 `= ?"
   ]
  },
  {
   "cell_type": "markdown",
   "metadata": {},
   "source": [
    "(a) 0.0"
   ]
  },
  {
   "cell_type": "markdown",
   "metadata": {},
   "source": [
    "(b) 0"
   ]
  },
  {
   "cell_type": "markdown",
   "metadata": {},
   "source": [
    "(c) 7.0"
   ]
  },
  {
   "cell_type": "markdown",
   "metadata": {},
   "source": [
    "(d) 7"
   ]
  },
  {
   "cell_type": "markdown",
   "metadata": {},
   "source": [
    "####  Q2 用字符串索引的方式完成下列答案"
   ]
  },
  {
   "cell_type": "code",
   "execution_count": 66,
   "metadata": {},
   "outputs": [],
   "source": [
    "Name = 'Pablo Diego José Francisco de Paula Juan Nepomuceno María de los \\\n",
    "        Remedios Cipriano de la Santísima Trinidad Ruiz y Picasso'"
   ]
  },
  {
   "cell_type": "code",
   "execution_count": 67,
   "metadata": {},
   "outputs": [
    {
     "data": {
      "text/plain": [
       "'Picasso'"
      ]
     },
     "execution_count": 67,
     "metadata": {},
     "output_type": "execute_result"
    }
   ],
   "source": [
    "Name[-7:]"
   ]
  },
  {
   "cell_type": "markdown",
   "metadata": {},
   "source": [
    "#### Q3 承上題，用字符串索引的方式完成下列答案"
   ]
  },
  {
   "cell_type": "code",
   "execution_count": 15,
   "metadata": {},
   "outputs": [
    {
     "data": {
      "text/plain": [
       "'Pablo Diego José Francisco de Paula Juan Nepomuceno María de los         Remedios Cipriano de la Santísima Trinidad Ruiz y Picasso'"
      ]
     },
     "execution_count": 15,
     "metadata": {},
     "output_type": "execute_result"
    }
   ],
   "source": [
    "Name[:]"
   ]
  },
  {
   "cell_type": "code",
   "execution_count": 5,
   "metadata": {},
   "outputs": [
    {
     "data": {
      "text/plain": [
       "'Pablo Diego José Francisco de Paula Juan Nepomuceno María de los         Remedios Cipriano de la Santísima Trinidad Ruiz y Picasso'"
      ]
     },
     "execution_count": 5,
     "metadata": {},
     "output_type": "execute_result"
    }
   ],
   "source": []
  },
  {
   "cell_type": "markdown",
   "metadata": {},
   "source": [
    "#### Q4 `name = 'BTC' price = 3000` 用字符串格式化完成下列答案"
   ]
  },
  {
   "cell_type": "code",
   "execution_count": 17,
   "metadata": {},
   "outputs": [
    {
     "data": {
      "text/plain": [
       "'BTC : 3000(USD)'"
      ]
     },
     "execution_count": 17,
     "metadata": {},
     "output_type": "execute_result"
    }
   ],
   "source": [
    "name = 'BTC'\n",
    "price = 3000\n",
    "text='{0} : {1}(USD)'.format(name,price)\n",
    "text"
   ]
  },
  {
   "cell_type": "code",
   "execution_count": 10,
   "metadata": {},
   "outputs": [
    {
     "data": {
      "text/plain": [
       "'BTC : 3000(USD)'"
      ]
     },
     "execution_count": 10,
     "metadata": {},
     "output_type": "execute_result"
    }
   ],
   "source": []
  },
  {
   "cell_type": "markdown",
   "metadata": {},
   "source": [
    "#### Q5 `list1 = [ 1 , 2 , 3 ,4 ] , list2 = [4 , 5 , 6 ]` 請完成下列答案"
   ]
  },
  {
   "cell_type": "code",
   "execution_count": null,
   "metadata": {},
   "outputs": [],
   "source": [
    "list1*2 + [4,5,6]"
   ]
  },
  {
   "cell_type": "code",
   "execution_count": 8,
   "metadata": {},
   "outputs": [
    {
     "data": {
      "text/plain": [
       "[1, 2, 3, 4, 1, 2, 3, 4, 4, 5, 6]"
      ]
     },
     "execution_count": 8,
     "metadata": {},
     "output_type": "execute_result"
    }
   ],
   "source": []
  },
  {
   "cell_type": "markdown",
   "metadata": {},
   "source": [
    "#### Q6 `list2 = [ 'Apple' , 1 , 2 ]`, 執行 `list2.remove(2) list2.append('3')` 後 `list2`= ?"
   ]
  },
  {
   "cell_type": "markdown",
   "metadata": {},
   "source": [
    "(a) [ 'Apple' , 2 , 3 ]"
   ]
  },
  {
   "cell_type": "markdown",
   "metadata": {},
   "source": [
    "(b) [ 'Apple' , 1 , 3 ]"
   ]
  },
  {
   "cell_type": "markdown",
   "metadata": {},
   "source": [
    "(c) [ 'Apple' , 1 , '3' ]"
   ]
  },
  {
   "cell_type": "markdown",
   "metadata": {},
   "source": [
    "(d) [ 'Apple' , 2 , 3 ]"
   ]
  },
  {
   "cell_type": "markdown",
   "metadata": {},
   "source": [
    "#### Q7 `list3 = [ 11 , 22 , 33 , 44 , 77 ,88 ]` , 其長度跟最大值分別是?"
   ]
  },
  {
   "cell_type": "code",
   "execution_count": 15,
   "metadata": {},
   "outputs": [],
   "source": [
    "list3 = [ 11 , 22 , 33 , 44 , 77 ,88 ] "
   ]
  },
  {
   "cell_type": "code",
   "execution_count": 24,
   "metadata": {},
   "outputs": [
    {
     "data": {
      "text/plain": [
       "(6, 88)"
      ]
     },
     "execution_count": 24,
     "metadata": {},
     "output_type": "execute_result"
    }
   ],
   "source": [
    "len(list3) , max(list3)"
   ]
  },
  {
   "cell_type": "markdown",
   "metadata": {},
   "source": [
    "#### Q8 承上題，`list3 = [ 11 , 22 , 33 , 44 , 77 ,88 ]`, 請完成下列答案"
   ]
  },
  {
   "cell_type": "code",
   "execution_count": 70,
   "metadata": {},
   "outputs": [],
   "source": [
    "list3 = [ 11 , 22 , 33 , 44 , 77 ,88 ] "
   ]
  },
  {
   "cell_type": "code",
   "execution_count": 71,
   "metadata": {},
   "outputs": [
    {
     "data": {
      "text/plain": [
       "[11, 22, 33, 44, 55, 66, 77, 88]"
      ]
     },
     "execution_count": 71,
     "metadata": {},
     "output_type": "execute_result"
    }
   ],
   "source": [
    "list3.insert(4,55)\n",
    "list3.insert(5,66)\n",
    "list3"
   ]
  },
  {
   "cell_type": "markdown",
   "metadata": {},
   "source": [
    "#### Q9 下列哪一項不是元組`(tuple)`的特色?"
   ]
  },
  {
   "cell_type": "markdown",
   "metadata": {},
   "source": [
    "(a) 可以利用`()`的方式來創建，`ex:( 1 , 2 , 3)`"
   ]
  },
  {
   "cell_type": "markdown",
   "metadata": {},
   "source": [
    "(b) 讀寫速度快"
   ]
  },
  {
   "cell_type": "markdown",
   "metadata": {},
   "source": [
    "(c) 缺乏可擴展性"
   ]
  },
  {
   "cell_type": "markdown",
   "metadata": {},
   "source": [
    "(d) 元組內不能包含list的數據類型"
   ]
  },
  {
   "cell_type": "markdown",
   "metadata": {},
   "source": [
    "   "
   ]
  },
  {
   "cell_type": "markdown",
   "metadata": {},
   "source": [
    "#### Q10`d1 = {'name':'Kelly','gender':'female'}` , `d2 = {'country':'CHN'}` , 試著合併d1,d2"
   ]
  },
  {
   "cell_type": "code",
   "execution_count": 72,
   "metadata": {},
   "outputs": [],
   "source": [
    "d1 = {'name':'Kelly','gender':'female'} \n",
    "d2 = {'country':'CHN'}"
   ]
  },
  {
   "cell_type": "code",
   "execution_count": 73,
   "metadata": {},
   "outputs": [
    {
     "data": {
      "text/plain": [
       "{'name': 'Kelly', 'gender': 'female', 'country': 'CHN'}"
      ]
     },
     "execution_count": 73,
     "metadata": {},
     "output_type": "execute_result"
    }
   ],
   "source": [
    "d1.update(d2)\n",
    "d1"
   ]
  },
  {
   "cell_type": "markdown",
   "metadata": {},
   "source": [
    "#### Q11 `d1 = {'n1':15,'n2':22}` , `d2 = {'n3':45}` , 請完成下列答案"
   ]
  },
  {
   "cell_type": "code",
   "execution_count": 74,
   "metadata": {},
   "outputs": [],
   "source": [
    "d1 = {'n1':15,'n2':22} \n",
    "d2 = {'n3':45}"
   ]
  },
  {
   "cell_type": "code",
   "execution_count": 75,
   "metadata": {},
   "outputs": [
    {
     "data": {
      "text/plain": [
       "(dict_items([('n3', 45)]), dict_values([45]))"
      ]
     },
     "execution_count": 75,
     "metadata": {},
     "output_type": "execute_result"
    }
   ],
   "source": [
    "d2.items(),d2.values()"
   ]
  },
  {
   "cell_type": "markdown",
   "metadata": {},
   "source": [
    "#### Q12 承上題，`d1 = {'n1':15,'n2':22}` , `tuple(d1.items())` = ?"
   ]
  },
  {
   "cell_type": "markdown",
   "metadata": {},
   "source": [
    "(a) (('n1', 15), ('n2', 22))"
   ]
  },
  {
   "cell_type": "markdown",
   "metadata": {},
   "source": [
    "(b) [('n1', 15), ('n2', 22)]"
   ]
  },
  {
   "cell_type": "markdown",
   "metadata": {},
   "source": [
    "(c) 無法運行"
   ]
  },
  {
   "cell_type": "markdown",
   "metadata": {},
   "source": [
    "(d) dict_items([('n1', 15), ('n2', 22)])"
   ]
  },
  {
   "cell_type": "markdown",
   "metadata": {},
   "source": [
    "#### Q13 承上題，`d1 = {'n1':15,'n2':22}` , `list(d1.items())` = ?"
   ]
  },
  {
   "cell_type": "markdown",
   "metadata": {},
   "source": [
    "(a) (('n1', 15), ('n2', 22))"
   ]
  },
  {
   "cell_type": "markdown",
   "metadata": {},
   "source": [
    "(b) [('n1', 15), ('n2', 22)]"
   ]
  },
  {
   "cell_type": "markdown",
   "metadata": {},
   "source": [
    "(c) 無法運行"
   ]
  },
  {
   "cell_type": "markdown",
   "metadata": {},
   "source": [
    "(d) dict_items([('n1', 15), ('n2', 22)])"
   ]
  },
  {
   "cell_type": "markdown",
   "metadata": {},
   "source": [
    "#### Q14 承上題，`d1 = {'n1':15,'n2':22}` , `print(d1.items())` = ?"
   ]
  },
  {
   "cell_type": "markdown",
   "metadata": {},
   "source": [
    "(a) (('n1', 15), ('n2', 22))"
   ]
  },
  {
   "cell_type": "markdown",
   "metadata": {},
   "source": [
    "(b) [('n1', 15), ('n2', 22)]"
   ]
  },
  {
   "cell_type": "markdown",
   "metadata": {},
   "source": [
    "(c) 無法運行"
   ]
  },
  {
   "cell_type": "markdown",
   "metadata": {},
   "source": [
    "(d) dict_items([('n1', 15), ('n2', 22)])"
   ]
  },
  {
   "cell_type": "markdown",
   "metadata": {},
   "source": [
    "#### Q15 list、tuple、dict分別用什麼符號創建?"
   ]
  },
  {
   "cell_type": "markdown",
   "metadata": {},
   "source": [
    "(a) [ ]、{ }、( )"
   ]
  },
  {
   "cell_type": "markdown",
   "metadata": {},
   "source": [
    "(b) ( )、[ ]、{ }"
   ]
  },
  {
   "cell_type": "markdown",
   "metadata": {},
   "source": [
    "(c)  [ ]、( )、{ }"
   ]
  },
  {
   "cell_type": "markdown",
   "metadata": {},
   "source": [
    "(d) ( )、{ }、[ ]"
   ]
  },
  {
   "cell_type": "markdown",
   "metadata": {},
   "source": [
    "#### Q16 中央氣象局對雨量分級的定義如下:\n",
    "* 大雨：24小時累積雨量大於80毫米，或時雨量大於40毫米。\n",
    "* 豪雨：24小時累積雨量達200毫米以上，或3小時累積雨量達100毫米以上。\n",
    "* 大豪雨：24小時累積雨量達350毫米以上。\n",
    "* 超大豪雨：24小時累積雨量達500毫米以上。<br>\n",
    "\n",
    "     假設:<br>\n",
    "     24小時累積雨量 = 219毫米<br>\n",
    "     3小時累積雨量 = 80毫米<br>\n",
    "     時雨量 = 52毫米<br>\n",
    "     請利用`條件語句`建立一個雨量分級判斷的機制\n",
    "     \n"
   ]
  },
  {
   "cell_type": "code",
   "execution_count": 154,
   "metadata": {},
   "outputs": [
    {
     "name": "stdout",
     "output_type": "stream",
     "text": [
      "豪雨\n"
     ]
    }
   ],
   "source": [
    "rain_24 = 219\n",
    "rain_3 = 80\n",
    "rain = 52\n",
    "\n",
    "if rain_24 >=500:\n",
    "        print('超大豪雨') \n",
    "elif rain_24 >=350:\n",
    "        print ('大豪雨')\n",
    "elif rain_24>=200 or rain_3>=100:\n",
    "        print ('豪雨')\n",
    "elif rain_24>=80 or rain>=40:\n",
    "        print ('大雨')\n",
    "else :\n",
    "        print ('無')"
   ]
  },
  {
   "cell_type": "markdown",
   "metadata": {},
   "source": [
    "#### Q17 以下為某一週電影熱度TOP10的列表，請利用`for循環語句`完成以下答案"
   ]
  },
  {
   "cell_type": "code",
   "execution_count": null,
   "metadata": {},
   "outputs": [],
   "source": [
    "movie = ['玩具總動員 4','安娜貝爾回家囉','寄生上流','阿拉丁','安娜','復仇者聯盟:終局之戰','哥吉拉II怪獸之王',\n",
    "        '極惡對決','X戰警：黑鳳凰','靠譜歌王']"
   ]
  },
  {
   "cell_type": "code",
   "execution_count": 46,
   "metadata": {},
   "outputs": [
    {
     "name": "stdout",
     "output_type": "stream",
     "text": [
      "Rank:1\n",
      "Rank:2\n",
      "Rank:3\n",
      "Rank:4\n",
      "Rank:5\n",
      "Rank:6\n",
      "Rank:7\n",
      "Rank:8\n",
      "Rank:9\n",
      "Rank:10\n"
     ]
    }
   ],
   "source": [
    "for i in range(0,len(movie),1):\n",
    "    print('Rank:{}'.format(i+1) ) #A1"
   ]
  },
  {
   "cell_type": "code",
   "execution_count": 59,
   "metadata": {},
   "outputs": [
    {
     "name": "stdout",
     "output_type": "stream",
     "text": [
      "Rank:1\n",
      "Rank:2\n",
      "Rank:3\n",
      "Rank:4\n",
      "Rank:5\n",
      "Rank:6\n",
      "Rank:7\n",
      "Rank:8\n",
      "Rank:9\n",
      "Rank:10\n"
     ]
    }
   ],
   "source": [
    "for i in range(1,11,1):\n",
    "    print('Rank:{}'.format(i) ) #A2"
   ]
  },
  {
   "cell_type": "markdown",
   "metadata": {},
   "source": [
    "#### Q18 請利用`列表索引`的方式，完成以下答案"
   ]
  },
  {
   "cell_type": "code",
   "execution_count": 88,
   "metadata": {},
   "outputs": [
    {
     "data": {
      "text/plain": [
       "'玩具總動員 4'"
      ]
     },
     "execution_count": 88,
     "metadata": {},
     "output_type": "execute_result"
    }
   ],
   "source": [
    "movie[0]"
   ]
  },
  {
   "cell_type": "markdown",
   "metadata": {},
   "source": [
    "#### Q19 請利用`movie list`和`for循環語句`完成以下答案"
   ]
  },
  {
   "cell_type": "code",
   "execution_count": 67,
   "metadata": {},
   "outputs": [
    {
     "name": "stdout",
     "output_type": "stream",
     "text": [
      "片名:安娜貝爾回家囉\n",
      "片名:寄生上流\n",
      "片名:阿拉丁\n",
      "片名:安娜\n",
      "片名:復仇者聯盟:終局之戰\n",
      "片名:哥吉拉II怪獸之王\n",
      "片名:極惡對決\n",
      "片名:X戰警：黑鳳凰\n",
      "片名:靠譜歌王\n"
     ]
    }
   ],
   "source": [
    "for i in range(1,len(movie),1):\n",
    "    print('片名:{}'.format(movie[i]) ) #A1"
   ]
  },
  {
   "cell_type": "markdown",
   "metadata": {},
   "source": [
    "#### Q20 請利用`movie list`和`for循環語句`完成以下答案"
   ]
  },
  {
   "cell_type": "code",
   "execution_count": 62,
   "metadata": {},
   "outputs": [
    {
     "name": "stdout",
     "output_type": "stream",
     "text": [
      "Rank:7 片名:哥吉拉II怪獸之王\n"
     ]
    }
   ],
   "source": [
    "for i in range(0,len(movie),1):\n",
    "    if i > 5 :\n",
    "        print('Rank:{} 片名:{}'.format(i+1,movie[i]) ) \n",
    "        break                                                #A1"
   ]
  },
  {
   "cell_type": "code",
   "execution_count": 64,
   "metadata": {},
   "outputs": [
    {
     "name": "stdout",
     "output_type": "stream",
     "text": [
      "Rank:7 片名:哥吉拉II怪獸之王\n"
     ]
    }
   ],
   "source": [
    "for i in range(0,len(movie),1):\n",
    "    if i == 6:\n",
    "        print('Rank:{} 片名:{}'.format(i+1,movie[i]) )       #A2"
   ]
  },
  {
   "cell_type": "markdown",
   "metadata": {},
   "source": [
    "#### Q21 請利用`movie list`和`for循環語句`完成以下答案"
   ]
  },
  {
   "cell_type": "code",
   "execution_count": 16,
   "metadata": {},
   "outputs": [],
   "source": [
    "movie = ['玩具總動員 4','安娜貝爾回家囉','寄生上流','阿拉丁','安娜','復仇者聯盟:終局之戰','哥吉拉II怪獸之王',\n",
    "        '極惡對決','X戰警：黑鳳凰','靠譜歌王']"
   ]
  },
  {
   "cell_type": "code",
   "execution_count": 37,
   "metadata": {},
   "outputs": [
    {
     "name": "stdout",
     "output_type": "stream",
     "text": [
      "偶數電影2, 片名:安娜貝爾回家囉\n",
      "偶數電影4, 片名:阿拉丁\n",
      "偶數電影6, 片名:復仇者聯盟:終局之戰\n",
      "偶數電影8, 片名:極惡對決\n",
      "偶數電影10, 片名:靠譜歌王\n"
     ]
    }
   ],
   "source": [
    "for i in range(1,len(movie),2):\n",
    "    print('偶數電影{}, 片名:{}'.format(i+1 ,movie[i]) ) #A1"
   ]
  },
  {
   "cell_type": "code",
   "execution_count": 81,
   "metadata": {},
   "outputs": [
    {
     "name": "stdout",
     "output_type": "stream",
     "text": [
      "偶數電影:2, 片名:安娜貝爾回家囉\n",
      "偶數電影:4, 片名:阿拉丁\n",
      "偶數電影:6, 片名:復仇者聯盟:終局之戰\n",
      "偶數電影:8, 片名:極惡對決\n",
      "偶數電影:10, 片名:靠譜歌王\n"
     ]
    }
   ],
   "source": [
    "for i in range(1,len(movie),2):\n",
    "    if i % 2 ==0: \n",
    "        continue\n",
    "    print('偶數電影:{}, 片名:{}'.format(i+1 ,movie[i])) #A2"
   ]
  },
  {
   "cell_type": "markdown",
   "metadata": {},
   "source": [
    "#### Q22 請利用`movie list`和`for循環語句`篩選出四個字的電影"
   ]
  },
  {
   "cell_type": "code",
   "execution_count": 84,
   "metadata": {},
   "outputs": [
    {
     "name": "stdout",
     "output_type": "stream",
     "text": [
      "四個字的電影, 片名:寄生上流\n",
      "四個字的電影, 片名:極惡對決\n",
      "四個字的電影, 片名:靠譜歌王\n"
     ]
    }
   ],
   "source": [
    "for i in range(0,len(movie),1):\n",
    "    if len(movie[i]) !=4:\n",
    "        continue\n",
    "    print('四個字的電影, 片名:{}'.format(movie[i])  ) #A1"
   ]
  },
  {
   "cell_type": "markdown",
   "metadata": {},
   "source": [
    "#### Q23 請利用`movie list`和`for循環語句`篩選出四個字的電影和非四個字的電影 "
   ]
  },
  {
   "cell_type": "code",
   "execution_count": 97,
   "metadata": {},
   "outputs": [
    {
     "name": "stdout",
     "output_type": "stream",
     "text": [
      "非四個字的電影,片名:玩具總動員 4\n",
      "非四個字的電影,片名:安娜貝爾回家囉\n",
      "四個字的電影, 片名:寄生上流\n",
      "非四個字的電影,片名:阿拉丁\n",
      "非四個字的電影,片名:安娜\n",
      "非四個字的電影,片名:復仇者聯盟:終局之戰\n",
      "非四個字的電影,片名:哥吉拉II怪獸之王\n",
      "四個字的電影, 片名:極惡對決\n",
      "非四個字的電影,片名:X戰警：黑鳳凰\n",
      "四個字的電影, 片名:靠譜歌王\n"
     ]
    }
   ],
   "source": [
    "for i in range(0,len(movie),1):\n",
    "    if len(movie[i]) ==4:\n",
    "        print('四個字的電影, 片名:{}'.format(movie[i])  ) #A2\n",
    "    else:\n",
    "        print('非四個字的電影,片名:{}'.format(movie[i]))"
   ]
  },
  {
   "cell_type": "markdown",
   "metadata": {},
   "source": [
    "#### Q24 假設某位老師想利用學生的成績用python來寫一個簡單的判斷邏輯，其思路如下:\n",
    " * 考試成績最低分為50分，最高分為100分\n",
    " * 考試成績50分-59分為不及格，需要處罰學生罰站10分鐘\n",
    " * 考試成績60分-90分為及格，需要獎勵學生去操場玩\n",
    " * 考試成績90分以上，需要獎勵學生給他們100元去買糖果"
   ]
  },
  {
   "cell_type": "code",
   "execution_count": 111,
   "metadata": {},
   "outputs": [
    {
     "name": "stdout",
     "output_type": "stream",
     "text": [
      "考試成績:51 不及格，罰站10分鐘!\n",
      "考試成績:52 不及格，罰站10分鐘!\n",
      "考試成績:53 不及格，罰站10分鐘!\n",
      "考試成績:54 不及格，罰站10分鐘!\n",
      "考試成績:55 不及格，罰站10分鐘!\n",
      "考試成績:56 不及格，罰站10分鐘!\n",
      "考試成績:57 不及格，罰站10分鐘!\n",
      "考試成績:58 不及格，罰站10分鐘!\n",
      "考試成績:59 不及格，罰站10分鐘!\n",
      "考試成績:60 及格，去操場玩!\n",
      "考試成績:61 及格，去操場玩!\n",
      "考試成績:62 及格，去操場玩!\n",
      "考試成績:63 及格，去操場玩!\n",
      "考試成績:64 及格，去操場玩!\n",
      "考試成績:65 及格，去操場玩!\n",
      "考試成績:66 及格，去操場玩!\n",
      "考試成績:67 及格，去操場玩!\n",
      "考試成績:68 及格，去操場玩!\n",
      "考試成績:69 及格，去操場玩!\n",
      "考試成績:70 及格，去操場玩!\n",
      "考試成績:71 及格，去操場玩!\n",
      "考試成績:72 及格，去操場玩!\n",
      "考試成績:73 及格，去操場玩!\n",
      "考試成績:74 及格，去操場玩!\n",
      "考試成績:75 及格，去操場玩!\n",
      "考試成績:76 及格，去操場玩!\n",
      "考試成績:77 及格，去操場玩!\n",
      "考試成績:78 及格，去操場玩!\n",
      "考試成績:79 及格，去操場玩!\n",
      "考試成績:80 及格，去操場玩!\n",
      "考試成績:81 及格，去操場玩!\n",
      "考試成績:82 及格，去操場玩!\n",
      "考試成績:83 及格，去操場玩!\n",
      "考試成績:84 及格，去操場玩!\n",
      "考試成績:85 及格，去操場玩!\n",
      "考試成績:86 及格，去操場玩!\n",
      "考試成績:87 及格，去操場玩!\n",
      "考試成績:88 及格，去操場玩!\n",
      "考試成績:89 及格，去操場玩!\n",
      "考試成績:90 優秀!!，給你100元買糖果!\n",
      "考試成績:91 優秀!!，給你100元買糖果!\n",
      "考試成績:92 優秀!!，給你100元買糖果!\n",
      "考試成績:93 優秀!!，給你100元買糖果!\n",
      "考試成績:94 優秀!!，給你100元買糖果!\n",
      "考試成績:95 優秀!!，給你100元買糖果!\n",
      "考試成績:96 優秀!!，給你100元買糖果!\n",
      "考試成績:97 優秀!!，給你100元買糖果!\n",
      "考試成績:98 優秀!!，給你100元買糖果!\n",
      "考試成績:99 優秀!!，給你100元買糖果!\n",
      "考試成績:100 優秀!!，給你100元買糖果!\n"
     ]
    }
   ],
   "source": [
    "score = 50\n",
    "while score < 100:\n",
    "    score += 1\n",
    "    if score <60:\n",
    "        print('考試成績:{} 不及格，罰站10分鐘!'.format(score))\n",
    "    elif score >=90 :\n",
    "        print('考試成績:{} 優秀!!，給你100元買糖果!'.format(score))\n",
    "    else:\n",
    "        print('考試成績:{} 及格，去操場玩!'.format(score))"
   ]
  },
  {
   "cell_type": "markdown",
   "metadata": {},
   "source": [
    "#### Q25 `list1 = [11 , 22  , 33  , 44  , 55 ]` , `list2 = [66 , 77 , 88 , 99]`\n",
    "     請建立一個函數，完成以下答案"
   ]
  },
  {
   "cell_type": "code",
   "execution_count": 142,
   "metadata": {},
   "outputs": [
    {
     "data": {
      "text/plain": [
       "[22, 44, 66, 88]"
      ]
     },
     "execution_count": 142,
     "metadata": {},
     "output_type": "execute_result"
    }
   ],
   "source": [
    "list1 = [11 ,22 ,33 ,44 , 55]\n",
    "list2 = [66 ,77 ,88 ,99]\n",
    "even_number_list=[]\n",
    "\n",
    "def even_number(a , b):\n",
    "    c = a + b\n",
    "    if not c:\n",
    "        return(None)\n",
    "    for item in c:\n",
    "        if item %2 ==0:\n",
    "            even_number_list.append(item)\n",
    "    return even_number_list                    #A1\n",
    "\n",
    "even_number(list1 , list2)"
   ]
  },
  {
   "cell_type": "code",
   "execution_count": 153,
   "metadata": {},
   "outputs": [
    {
     "data": {
      "text/plain": [
       "[22, 44, 66, 88]"
      ]
     },
     "execution_count": 153,
     "metadata": {},
     "output_type": "execute_result"
    }
   ],
   "source": [
    "list1 = [11 ,22 ,33 ,44 , 55]\n",
    "list2 = [66 ,77 ,88 ,99]\n",
    "even_number_list=[]\n",
    "\n",
    "list3 = list1 + list2\n",
    "\n",
    "def even_number(a):\n",
    "    if not a:\n",
    "        return(None)\n",
    "    for item in a:\n",
    "        if item %2 ==0:\n",
    "            even_number_list.append(item)\n",
    "    return even_number_list                   #A2\n",
    "\n",
    "even_number(list3)"
   ]
  },
  {
   "cell_type": "markdown",
   "metadata": {},
   "source": [
    "#### Q26 同Q16 中央氣象局對雨量分級的定義如下:\n",
    "* 大雨：24小時累積雨量大於80毫米，或時雨量大於40毫米。\n",
    "* 豪雨：24小時累積雨量達200毫米以上，或3小時累積雨量達100毫米以上。\n",
    "* 大豪雨：24小時累積雨量達350毫米以上。\n",
    "* 超大豪雨：24小時累積雨量達500毫米以上。<br>\n",
    "\n",
    "     假設:<br>\n",
    "     24小時累積雨量 = 219毫米<br>\n",
    "     3小時累積雨量 = 80毫米<br>\n",
    "     時雨量 = 52毫米<br>\n",
    "     請利用`函數`建立一個雨量分級判斷的機制"
   ]
  },
  {
   "cell_type": "code",
   "execution_count": 155,
   "metadata": {},
   "outputs": [],
   "source": [
    "def rain_type(rain_24,rain_3,rain_1):\n",
    "    if rain_24 >=500:\n",
    "            return('超大豪雨') \n",
    "    elif rain_24 >=350:\n",
    "            return('大豪雨')\n",
    "    elif rain_24>=200 or rain_3>=100:\n",
    "            return('豪雨')\n",
    "    elif rain_24>=80 or rain_1>=40:\n",
    "            return ('大雨')\n",
    "    else :\n",
    "            return ('無')\n",
    "\n",
    "rain_type(219 , 80 ,52)"
   ]
  },
  {
   "cell_type": "markdown",
   "metadata": {},
   "source": [
    "#### Q27 延續上題，假如有一列表包含4組的雨量資料如下，請利用`函數`和`循環語句`完成以下答案"
   ]
  },
  {
   "cell_type": "code",
   "execution_count": 190,
   "metadata": {},
   "outputs": [],
   "source": [
    "rain_list = [219 , 80 ,52 ,\n",
    "             355 , 76 ,22 ,\n",
    "             276 , 33 ,10 ,\n",
    "             100 , 23 ,66]"
   ]
  },
  {
   "cell_type": "code",
   "execution_count": 191,
   "metadata": {},
   "outputs": [],
   "source": [
    "def rain_type(list_number):\n",
    "    if list_number[0] >=500:\n",
    "            return('超大豪雨') \n",
    "    elif list_number[0] >=350:\n",
    "            return('大豪雨')\n",
    "    elif list_number[0] >=200 or list_number[1]>=100:\n",
    "            return('豪雨')\n",
    "    elif list_number[0] >=80 or list_number[2] >=40:\n",
    "            return ('大雨')\n",
    "    else :\n",
    "            return ('無')"
   ]
  },
  {
   "cell_type": "code",
   "execution_count": 192,
   "metadata": {},
   "outputs": [
    {
     "data": {
      "text/plain": [
       "['豪雨', '大豪雨', '豪雨', '大雨']"
      ]
     },
     "execution_count": 192,
     "metadata": {},
     "output_type": "execute_result"
    }
   ],
   "source": [
    "rain_type_list = []\n",
    "for i in range(0,len(rain_list),3):\n",
    "    rain_type_list.append( rain_type(rain_list[i:i+3])  ) \n",
    "rain_type_list  "
   ]
  },
  {
   "cell_type": "code",
   "execution_count": null,
   "metadata": {},
   "outputs": [],
   "source": []
  }
 ],
 "metadata": {
  "kernelspec": {
   "display_name": "Python 3",
   "language": "python",
   "name": "python3"
  },
  "language_info": {
   "codemirror_mode": {
    "name": "ipython",
    "version": 3
   },
   "file_extension": ".py",
   "mimetype": "text/x-python",
   "name": "python",
   "nbconvert_exporter": "python",
   "pygments_lexer": "ipython3",
   "version": "3.6.5"
  }
 },
 "nbformat": 4,
 "nbformat_minor": 2
}
