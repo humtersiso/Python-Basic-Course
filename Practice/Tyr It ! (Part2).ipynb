{
 "cells": [
  {
   "cell_type": "markdown",
   "metadata": {},
   "source": [
    "# Try it (Part2) !!\n",
    "* 試試看你學會了多少\n",
    "* 有些問題不是只有一種解法"
   ]
  },
  {
   "cell_type": "markdown",
   "metadata": {},
   "source": [
    "***"
   ]
  },
  {
   "cell_type": "markdown",
   "metadata": {},
   "source": [
    "<img src=\"1.jpg\" width=\"90%\">"
   ]
  },
  {
   "cell_type": "markdown",
   "metadata": {},
   "source": [
    "####  Q1 請建立一個類`(class)`，包含車輛品牌名稱、車門數量、和乘客數量的屬性`(attribute)`"
   ]
  },
  {
   "cell_type": "code",
   "execution_count": 3,
   "metadata": {},
   "outputs": [],
   "source": [
    "class car :\n",
    "    def __init__(self , brand , doors, passengers):\n",
    "        self.brand = car\n",
    "        self.doors = doors\n",
    "        self.passengers = passengers"
   ]
  },
  {
   "cell_type": "markdown",
   "metadata": {},
   "source": [
    "#### Q2 承上題，新增一個方法`(method)`，並完成下列答案"
   ]
  },
  {
   "cell_type": "code",
   "execution_count": 14,
   "metadata": {},
   "outputs": [],
   "source": [
    "class car :\n",
    "    def __init__(self , brand , doors, passengers):\n",
    "        self.brand = brand\n",
    "        self.doors = doors\n",
    "        self.passengers = passengers\n",
    "        \n",
    "    def car_detail(self):\n",
    "        print('這台車是{}，有{}個車門，可以坐{}人'.format(self.brand , self.doors , self.passengers))"
   ]
  },
  {
   "cell_type": "code",
   "execution_count": 15,
   "metadata": {},
   "outputs": [],
   "source": [
    "car1 = car('LUXGEN' , 4 , 4)"
   ]
  },
  {
   "cell_type": "code",
   "execution_count": 17,
   "metadata": {},
   "outputs": [
    {
     "data": {
      "text/plain": [
       "'LUXGEN'"
      ]
     },
     "execution_count": 17,
     "metadata": {},
     "output_type": "execute_result"
    }
   ],
   "source": [
    "car1.brand"
   ]
  },
  {
   "cell_type": "code",
   "execution_count": 18,
   "metadata": {},
   "outputs": [
    {
     "data": {
      "text/plain": [
       "4"
      ]
     },
     "execution_count": 18,
     "metadata": {},
     "output_type": "execute_result"
    }
   ],
   "source": [
    "car1.doors"
   ]
  },
  {
   "cell_type": "code",
   "execution_count": 19,
   "metadata": {},
   "outputs": [
    {
     "data": {
      "text/plain": [
       "4"
      ]
     },
     "execution_count": 19,
     "metadata": {},
     "output_type": "execute_result"
    }
   ],
   "source": [
    "car1.passengers"
   ]
  },
  {
   "cell_type": "code",
   "execution_count": 16,
   "metadata": {},
   "outputs": [
    {
     "name": "stdout",
     "output_type": "stream",
     "text": [
      "這台車是LUXGEN，有4個車門，可以坐4人\n"
     ]
    }
   ],
   "source": [
    "car1.car_detail()"
   ]
  },
  {
   "cell_type": "markdown",
   "metadata": {},
   "source": [
    "#### Q3 承上題，修改方法(method)，並完成下列答案\n"
   ]
  },
  {
   "cell_type": "code",
   "execution_count": 25,
   "metadata": {},
   "outputs": [],
   "source": [
    "class car :\n",
    "    def __init__(self , brand , doors, passengers):\n",
    "        self.brand = brand\n",
    "        self.doors = doors\n",
    "        self.passengers = passengers\n",
    "        \n",
    "    def car_detail(self):\n",
    "        self.passengers += 1\n",
    "        print('這台車是{}，有{}個車門，最多可以坐{}人'.format(self.brand , self.doors , self.passengers))"
   ]
  },
  {
   "cell_type": "code",
   "execution_count": null,
   "metadata": {},
   "outputs": [],
   "source": [
    "class car :\n",
    "    def __init__(self , brand , doors, passengers):\n",
    "        self.brand = brand\n",
    "        self.doors = doors\n",
    "        self.passengers = passengers\n",
    "        \n",
    "    def car_detail(self):\n",
    "        self.passengers = self.passengers + 1\n",
    "        print('這台車是{}，有{}個車門，最多可以坐{}人'.format(self.brand , self.doors , self.passengers))"
   ]
  },
  {
   "cell_type": "code",
   "execution_count": 26,
   "metadata": {},
   "outputs": [],
   "source": [
    "car2 = car('LUXGEN' , 4 , 4)"
   ]
  },
  {
   "cell_type": "code",
   "execution_count": 28,
   "metadata": {
    "scrolled": true
   },
   "outputs": [
    {
     "data": {
      "text/plain": [
       "'LUXGEN'"
      ]
     },
     "execution_count": 28,
     "metadata": {},
     "output_type": "execute_result"
    }
   ],
   "source": [
    "car2.brand"
   ]
  },
  {
   "cell_type": "code",
   "execution_count": 29,
   "metadata": {},
   "outputs": [
    {
     "data": {
      "text/plain": [
       "4"
      ]
     },
     "execution_count": 29,
     "metadata": {},
     "output_type": "execute_result"
    }
   ],
   "source": [
    "car2.doors"
   ]
  },
  {
   "cell_type": "code",
   "execution_count": 30,
   "metadata": {},
   "outputs": [
    {
     "data": {
      "text/plain": [
       "4"
      ]
     },
     "execution_count": 30,
     "metadata": {},
     "output_type": "execute_result"
    }
   ],
   "source": [
    "car2.passengers"
   ]
  },
  {
   "cell_type": "code",
   "execution_count": 31,
   "metadata": {},
   "outputs": [
    {
     "name": "stdout",
     "output_type": "stream",
     "text": [
      "這台車是LUXGEN，有4個車門，最多可以坐5人\n"
     ]
    }
   ],
   "source": [
    "car2.car_detail()"
   ]
  },
  {
   "cell_type": "markdown",
   "metadata": {},
   "source": [
    "#### Q4 承上題，利用`私有屬性`的方式避免直接取用車輛品牌名稱和乘客數量"
   ]
  },
  {
   "cell_type": "code",
   "execution_count": 51,
   "metadata": {},
   "outputs": [],
   "source": [
    "class car :\n",
    "    def __init__(self , brand , doors, passengers):\n",
    "        self.__brand = brand\n",
    "        self.doors = doors\n",
    "        self.__passengers = passengers\n",
    "        \n",
    "    def car_detail(self):\n",
    "        self.brand = self.__brand\n",
    "        self.passengers = self.__passengers + 1\n",
    "        print('這台車是{}，有{}個車門，最多可以坐{}人'.format(self.brand , self.doors , self.passengers))"
   ]
  },
  {
   "cell_type": "code",
   "execution_count": 52,
   "metadata": {},
   "outputs": [],
   "source": [
    "car3 = car('LUXGEN' , 4 , 4)"
   ]
  },
  {
   "cell_type": "code",
   "execution_count": 53,
   "metadata": {
    "scrolled": true
   },
   "outputs": [
    {
     "ename": "AttributeError",
     "evalue": "'car' object has no attribute 'brand'",
     "output_type": "error",
     "traceback": [
      "\u001b[1;31m---------------------------------------------------------------------------\u001b[0m",
      "\u001b[1;31mAttributeError\u001b[0m                            Traceback (most recent call last)",
      "\u001b[1;32m<ipython-input-53-d84fa3a46881>\u001b[0m in \u001b[0;36m<module>\u001b[1;34m()\u001b[0m\n\u001b[1;32m----> 1\u001b[1;33m \u001b[0mcar3\u001b[0m\u001b[1;33m.\u001b[0m\u001b[0mbrand\u001b[0m\u001b[1;33m\u001b[0m\u001b[0m\n\u001b[0m",
      "\u001b[1;31mAttributeError\u001b[0m: 'car' object has no attribute 'brand'"
     ]
    }
   ],
   "source": [
    "car3.brand"
   ]
  },
  {
   "cell_type": "code",
   "execution_count": 54,
   "metadata": {},
   "outputs": [
    {
     "data": {
      "text/plain": [
       "4"
      ]
     },
     "execution_count": 54,
     "metadata": {},
     "output_type": "execute_result"
    }
   ],
   "source": [
    "car3.doors"
   ]
  },
  {
   "cell_type": "code",
   "execution_count": 55,
   "metadata": {},
   "outputs": [
    {
     "ename": "AttributeError",
     "evalue": "'car' object has no attribute 'passengers'",
     "output_type": "error",
     "traceback": [
      "\u001b[1;31m---------------------------------------------------------------------------\u001b[0m",
      "\u001b[1;31mAttributeError\u001b[0m                            Traceback (most recent call last)",
      "\u001b[1;32m<ipython-input-55-8f1579908c2b>\u001b[0m in \u001b[0;36m<module>\u001b[1;34m()\u001b[0m\n\u001b[1;32m----> 1\u001b[1;33m \u001b[0mcar3\u001b[0m\u001b[1;33m.\u001b[0m\u001b[0mpassengers\u001b[0m\u001b[1;33m\u001b[0m\u001b[0m\n\u001b[0m",
      "\u001b[1;31mAttributeError\u001b[0m: 'car' object has no attribute 'passengers'"
     ]
    }
   ],
   "source": [
    "car3.passengers"
   ]
  },
  {
   "cell_type": "code",
   "execution_count": 56,
   "metadata": {},
   "outputs": [
    {
     "name": "stdout",
     "output_type": "stream",
     "text": [
      "這台車是LUXGEN，有4個車門，最多可以坐5人\n"
     ]
    }
   ],
   "source": [
    "car3.car_detail()"
   ]
  },
  {
   "cell_type": "markdown",
   "metadata": {},
   "source": [
    "#### Q5 承上題，利用`裝飾器(property)`的方式將`方法(method)`轉換成`屬性(attribute)`"
   ]
  },
  {
   "cell_type": "code",
   "execution_count": 77,
   "metadata": {},
   "outputs": [],
   "source": [
    "class car :\n",
    "    def __init__(self , brand , doors, passengers):\n",
    "        self.__brand = brand\n",
    "        self.doors = doors\n",
    "        self.__passengers = passengers\n",
    "     \n",
    "    @property\n",
    "    def detail(self):\n",
    "        self.brand = self.__brand\n",
    "        self.passengers = self.__passengers + 1\n",
    "        print('這台車是{}，有{}個車門，最多可以坐{}人'.format(self.brand , self.doors , self.passengers))"
   ]
  },
  {
   "cell_type": "code",
   "execution_count": 78,
   "metadata": {},
   "outputs": [],
   "source": [
    "car4 = car('LUXGEN' , 4 , 4)"
   ]
  },
  {
   "cell_type": "code",
   "execution_count": 79,
   "metadata": {
    "scrolled": true
   },
   "outputs": [
    {
     "ename": "AttributeError",
     "evalue": "'car' object has no attribute 'brand'",
     "output_type": "error",
     "traceback": [
      "\u001b[1;31m---------------------------------------------------------------------------\u001b[0m",
      "\u001b[1;31mAttributeError\u001b[0m                            Traceback (most recent call last)",
      "\u001b[1;32m<ipython-input-79-9ce53a40d0c1>\u001b[0m in \u001b[0;36m<module>\u001b[1;34m()\u001b[0m\n\u001b[1;32m----> 1\u001b[1;33m \u001b[0mcar4\u001b[0m\u001b[1;33m.\u001b[0m\u001b[0mbrand\u001b[0m\u001b[1;33m\u001b[0m\u001b[0m\n\u001b[0m",
      "\u001b[1;31mAttributeError\u001b[0m: 'car' object has no attribute 'brand'"
     ]
    }
   ],
   "source": [
    "car4.brand"
   ]
  },
  {
   "cell_type": "code",
   "execution_count": 80,
   "metadata": {},
   "outputs": [
    {
     "data": {
      "text/plain": [
       "4"
      ]
     },
     "execution_count": 80,
     "metadata": {},
     "output_type": "execute_result"
    }
   ],
   "source": [
    "car4.doors"
   ]
  },
  {
   "cell_type": "code",
   "execution_count": 81,
   "metadata": {},
   "outputs": [
    {
     "ename": "AttributeError",
     "evalue": "'car' object has no attribute 'passengers'",
     "output_type": "error",
     "traceback": [
      "\u001b[1;31m---------------------------------------------------------------------------\u001b[0m",
      "\u001b[1;31mAttributeError\u001b[0m                            Traceback (most recent call last)",
      "\u001b[1;32m<ipython-input-81-7d80d85a652d>\u001b[0m in \u001b[0;36m<module>\u001b[1;34m()\u001b[0m\n\u001b[1;32m----> 1\u001b[1;33m \u001b[0mcar4\u001b[0m\u001b[1;33m.\u001b[0m\u001b[0mpassengers\u001b[0m\u001b[1;33m\u001b[0m\u001b[0m\n\u001b[0m",
      "\u001b[1;31mAttributeError\u001b[0m: 'car' object has no attribute 'passengers'"
     ]
    }
   ],
   "source": [
    "car4.passengers"
   ]
  },
  {
   "cell_type": "code",
   "execution_count": 82,
   "metadata": {},
   "outputs": [
    {
     "name": "stdout",
     "output_type": "stream",
     "text": [
      "這台車是LUXGEN，有4個車門，最多可以坐5人\n"
     ]
    }
   ],
   "source": [
    "car4.detail"
   ]
  },
  {
   "cell_type": "markdown",
   "metadata": {},
   "source": [
    "#### Q6 承上題，利用`繼承父類`的方式建立`子類`，並修改`方法`完成下列答案"
   ]
  },
  {
   "cell_type": "code",
   "execution_count": 83,
   "metadata": {},
   "outputs": [],
   "source": [
    "class car :\n",
    "    def __init__(self , brand , doors, passengers):\n",
    "        self.brand = brand\n",
    "        self.doors = doors\n",
    "        self.passengers = passengers\n",
    "     \n",
    "    def car_detail(self):\n",
    "        self.passengers = self.passengers + 1\n",
    "        print('這台車是{}，有{}個車門，最多可以坐{}人'.format(self.brand , self.doors , self.passengers))"
   ]
  },
  {
   "cell_type": "code",
   "execution_count": 109,
   "metadata": {},
   "outputs": [],
   "source": [
    "class truck(car):\n",
    "    def car_detail(self , car_type):\n",
    "        self.passengers = self.passengers + 1      \n",
    "        print('這台車是{}，車型:{}，有{}個車門，最多可以坐{}人'.format(self.brand , car_type ,self.doors , self.passengers))"
   ]
  },
  {
   "cell_type": "code",
   "execution_count": 110,
   "metadata": {},
   "outputs": [],
   "source": [
    "car4 = truck('LUXGEN' , 2 , 2)"
   ]
  },
  {
   "cell_type": "code",
   "execution_count": 111,
   "metadata": {
    "scrolled": true
   },
   "outputs": [
    {
     "data": {
      "text/plain": [
       "'LUXGEN'"
      ]
     },
     "execution_count": 111,
     "metadata": {},
     "output_type": "execute_result"
    }
   ],
   "source": [
    "car4.brand"
   ]
  },
  {
   "cell_type": "code",
   "execution_count": 112,
   "metadata": {},
   "outputs": [
    {
     "data": {
      "text/plain": [
       "2"
      ]
     },
     "execution_count": 112,
     "metadata": {},
     "output_type": "execute_result"
    }
   ],
   "source": [
    "car4.doors"
   ]
  },
  {
   "cell_type": "code",
   "execution_count": 113,
   "metadata": {},
   "outputs": [
    {
     "data": {
      "text/plain": [
       "2"
      ]
     },
     "execution_count": 113,
     "metadata": {},
     "output_type": "execute_result"
    }
   ],
   "source": [
    "car4.passengers"
   ]
  },
  {
   "cell_type": "code",
   "execution_count": 114,
   "metadata": {},
   "outputs": [
    {
     "name": "stdout",
     "output_type": "stream",
     "text": [
      "這台車是LUXGEN，車型:truck，有2個車門，最多可以坐3人\n"
     ]
    }
   ],
   "source": [
    "car4.car_detail('truck')"
   ]
  },
  {
   "cell_type": "markdown",
   "metadata": {},
   "source": [
    "#### Q7 請將`Tyr It ! (Part1)`裡 `Q27解答中`的`函數`包成一套件"
   ]
  },
  {
   "cell_type": "markdown",
   "metadata": {},
   "source": [
    "#### Q8 承上題，引用包好的套件，完成下列答案"
   ]
  },
  {
   "cell_type": "code",
   "execution_count": 115,
   "metadata": {},
   "outputs": [],
   "source": [
    "rain_list = [219 , 80 ,52 ,\n",
    "             355 , 76 ,22 ,\n",
    "             276 , 33 ,10 ,\n",
    "             100 , 23 ,66]"
   ]
  },
  {
   "cell_type": "code",
   "execution_count": 116,
   "metadata": {},
   "outputs": [],
   "source": [
    "def rain_type(list_number):\n",
    "    if list_number[0] >=500:\n",
    "            return('超大豪雨') \n",
    "    elif list_number[0] >=350:\n",
    "            return('大豪雨')\n",
    "    elif list_number[0] >=200 or list_number[1]>=100:\n",
    "            return('豪雨')\n",
    "    elif list_number[0] >=80 or list_number[2] >=40:\n",
    "            return ('大雨')\n",
    "    else :\n",
    "            return ('無')"
   ]
  },
  {
   "cell_type": "code",
   "execution_count": 117,
   "metadata": {},
   "outputs": [
    {
     "data": {
      "text/plain": [
       "['豪雨', '大豪雨', '豪雨', '大雨']"
      ]
     },
     "execution_count": 117,
     "metadata": {},
     "output_type": "execute_result"
    }
   ],
   "source": [
    "rain_type_list = []\n",
    "for i in range(0,len(rain_list),3):\n",
    "    rain_type_list.append( rain_type(rain_list[i:i+3])  ) \n",
    "rain_type_list  "
   ]
  },
  {
   "cell_type": "markdown",
   "metadata": {},
   "source": [
    "#### Q9 請更新`boto3`套件，並隨機列舉出三個`boto3`套件中有的函數"
   ]
  },
  {
   "cell_type": "code",
   "execution_count": 121,
   "metadata": {},
   "outputs": [
    {
     "name": "stdout",
     "output_type": "stream",
     "text": [
      "Collecting boto3\n",
      "  Downloading https://files.pythonhosted.org/packages/0a/c6/214053d79804f39e6812adb24796df8695b1932783308c0a8849bd73100f/boto3-1.9.184-py2.py3-none-any.whl (128kB)\n",
      "Collecting botocore<1.13.0,>=1.12.184 (from boto3)\n",
      "  Downloading https://files.pythonhosted.org/packages/5a/7a/d40fabadbdc48fc4c15c087e69ab3f18e776b88662d5d118b03e09847673/botocore-1.12.184-py2.py3-none-any.whl (5.6MB)\n",
      "Requirement already satisfied, skipping upgrade: jmespath<1.0.0,>=0.7.1 in d:\\python\\lib\\site-packages (from boto3) (0.9.3)\n",
      "Requirement already satisfied, skipping upgrade: s3transfer<0.3.0,>=0.2.0 in d:\\python\\lib\\site-packages (from boto3) (0.2.0)\n",
      "Requirement already satisfied, skipping upgrade: urllib3<1.26,>=1.20; python_version >= \"3.4\" in d:\\python\\lib\\site-packages (from botocore<1.13.0,>=1.12.184->boto3) (1.22)\n",
      "Requirement already satisfied, skipping upgrade: docutils>=0.10 in d:\\python\\lib\\site-packages (from botocore<1.13.0,>=1.12.184->boto3) (0.14)\n",
      "Requirement already satisfied, skipping upgrade: python-dateutil<3.0.0,>=2.1; python_version >= \"2.7\" in d:\\python\\lib\\site-packages (from botocore<1.13.0,>=1.12.184->boto3) (2.7.3)\n",
      "Requirement already satisfied, skipping upgrade: six>=1.5 in d:\\python\\lib\\site-packages (from python-dateutil<3.0.0,>=2.1; python_version >= \"2.7\"->botocore<1.13.0,>=1.12.184->boto3) (1.11.0)\n",
      "Installing collected packages: botocore, boto3\n",
      "  Found existing installation: botocore 1.12.160\n",
      "    Uninstalling botocore-1.12.160:\n",
      "      Successfully uninstalled botocore-1.12.160\n",
      "  Found existing installation: boto3 1.9.160\n",
      "    Uninstalling boto3-1.9.160:\n",
      "      Successfully uninstalled boto3-1.9.160\n",
      "Successfully installed boto3-1.9.184 botocore-1.12.184\n"
     ]
    }
   ],
   "source": [
    "!pip install -U boto3"
   ]
  },
  {
   "cell_type": "code",
   "execution_count": 122,
   "metadata": {},
   "outputs": [],
   "source": [
    "import boto3"
   ]
  },
  {
   "cell_type": "code",
   "execution_count": null,
   "metadata": {},
   "outputs": [],
   "source": [
    "boto3."
   ]
  },
  {
   "cell_type": "markdown",
   "metadata": {},
   "source": [
    "#### Q10   `list1 = [11 , 22  , 33  , 44  , 55 ]` , `list2 = [66 , 77 , 88 , 99]` ,請建立一個`函數`來計算list1 + list2的平均數"
   ]
  },
  {
   "cell_type": "code",
   "execution_count": 135,
   "metadata": {},
   "outputs": [],
   "source": [
    "list1 = [11 , 22  , 33  , 44  , 55 ]\n",
    "list2 = [66 , 77 , 88 , 99]"
   ]
  },
  {
   "cell_type": "code",
   "execution_count": 150,
   "metadata": {},
   "outputs": [
    {
     "data": {
      "text/plain": [
       "55.0"
      ]
     },
     "execution_count": 150,
     "metadata": {},
     "output_type": "execute_result"
    }
   ],
   "source": [
    "def Mean(list1 ,list2):\n",
    "    result = round(sum(list1 + list2)/len(list1 + list2),2)\n",
    "    return result   #A\n",
    "Mean(list1 , list2)"
   ]
  },
  {
   "cell_type": "code",
   "execution_count": 151,
   "metadata": {},
   "outputs": [
    {
     "data": {
      "text/plain": [
       "55.0"
      ]
     },
     "execution_count": 151,
     "metadata": {},
     "output_type": "execute_result"
    }
   ],
   "source": [
    "def Mean(list1 ,list2):\n",
    "    result = round((sum(list1) + sum(list2))/(len(list1) + len(list2)),2)\n",
    "    return result   #B\n",
    "Mean(list1 , list2)"
   ]
  },
  {
   "cell_type": "markdown",
   "metadata": {},
   "source": [
    "#### Q11 承上題，將此`函數`轉換成`python lambda`的寫法"
   ]
  },
  {
   "cell_type": "code",
   "execution_count": 149,
   "metadata": {},
   "outputs": [
    {
     "data": {
      "text/plain": [
       "55.0"
      ]
     },
     "execution_count": 149,
     "metadata": {},
     "output_type": "execute_result"
    }
   ],
   "source": [
    "lam_mean = lambda list1 , list2 : round(sum(list1 + list2)/len(list1 + list2),2) #A\n",
    "lam_mean(list1 , list2)"
   ]
  },
  {
   "cell_type": "code",
   "execution_count": 152,
   "metadata": {},
   "outputs": [
    {
     "data": {
      "text/plain": [
       "55.0"
      ]
     },
     "execution_count": 152,
     "metadata": {},
     "output_type": "execute_result"
    }
   ],
   "source": [
    "lam_mean = lambda list1 , list2 : round((sum(list1) + sum(list2))/(len(list1) + len(list2)),2) #A\n",
    "lam_mean(list1 , list2)"
   ]
  },
  {
   "cell_type": "markdown",
   "metadata": {},
   "source": [
    "#### Q12 請利用`for循環語句`來完成下列答案"
   ]
  },
  {
   "cell_type": "code",
   "execution_count": 161,
   "metadata": {},
   "outputs": [],
   "source": [
    "movie = ['玩具總動員 4','安娜貝爾回家囉','寄生上流','阿拉丁','安娜','復仇者聯盟:終局之戰','哥吉拉II怪獸之王',\n",
    "        '極惡對決','X戰警：黑鳳凰','靠譜歌王']"
   ]
  },
  {
   "cell_type": "code",
   "execution_count": 162,
   "metadata": {},
   "outputs": [],
   "source": [
    "rank = [1, 2, 3, 4, 5, 6, 7, 8, 9, 10]"
   ]
  },
  {
   "cell_type": "code",
   "execution_count": 165,
   "metadata": {},
   "outputs": [],
   "source": [
    "movie_list = []\n",
    "for i1 ,i2 in zip(movie , rank):\n",
    "    movie_list.append(str('電影:{}，票房第{}名'.format(i1,i2)))"
   ]
  },
  {
   "cell_type": "code",
   "execution_count": 166,
   "metadata": {},
   "outputs": [
    {
     "data": {
      "text/plain": [
       "['電影:玩具總動員 4，票房第1名',\n",
       " '電影:安娜貝爾回家囉，票房第2名',\n",
       " '電影:寄生上流，票房第3名',\n",
       " '電影:阿拉丁，票房第4名',\n",
       " '電影:安娜，票房第5名',\n",
       " '電影:復仇者聯盟:終局之戰，票房第6名',\n",
       " '電影:哥吉拉II怪獸之王，票房第7名',\n",
       " '電影:極惡對決，票房第8名',\n",
       " '電影:X戰警：黑鳳凰，票房第9名',\n",
       " '電影:靠譜歌王，票房第10名']"
      ]
     },
     "execution_count": 166,
     "metadata": {},
     "output_type": "execute_result"
    }
   ],
   "source": [
    "movie_list"
   ]
  },
  {
   "cell_type": "markdown",
   "metadata": {},
   "source": [
    "#### Q13 請利用`列表解析`來完成下列答案"
   ]
  },
  {
   "cell_type": "code",
   "execution_count": 169,
   "metadata": {},
   "outputs": [],
   "source": [
    "movie_list = [str('電影:{}，票房第{}名'.format(i1,i2)) for i1, i2 in zip(movie , rank)]"
   ]
  },
  {
   "cell_type": "code",
   "execution_count": 170,
   "metadata": {},
   "outputs": [
    {
     "data": {
      "text/plain": [
       "['電影:玩具總動員 4，票房第1名',\n",
       " '電影:安娜貝爾回家囉，票房第2名',\n",
       " '電影:寄生上流，票房第3名',\n",
       " '電影:阿拉丁，票房第4名',\n",
       " '電影:安娜，票房第5名',\n",
       " '電影:復仇者聯盟:終局之戰，票房第6名',\n",
       " '電影:哥吉拉II怪獸之王，票房第7名',\n",
       " '電影:極惡對決，票房第8名',\n",
       " '電影:X戰警：黑鳳凰，票房第9名',\n",
       " '電影:靠譜歌王，票房第10名']"
      ]
     },
     "execution_count": 170,
     "metadata": {},
     "output_type": "execute_result"
    }
   ],
   "source": [
    "movie_list"
   ]
  },
  {
   "cell_type": "markdown",
   "metadata": {},
   "source": [
    "#### Q14 請利用`列表解析`的方式完成下列答案"
   ]
  },
  {
   "cell_type": "code",
   "execution_count": 188,
   "metadata": {},
   "outputs": [],
   "source": [
    "movie_list = [str('電影:{}，票房第{}名'.format(i1,i2)) for i1, i2 in zip(movie , rank) if i2 <4]"
   ]
  },
  {
   "cell_type": "code",
   "execution_count": 189,
   "metadata": {},
   "outputs": [
    {
     "data": {
      "text/plain": [
       "['電影:玩具總動員 4，票房第1名', '電影:安娜貝爾回家囉，票房第2名', '電影:寄生上流，票房第3名']"
      ]
     },
     "execution_count": 189,
     "metadata": {},
     "output_type": "execute_result"
    }
   ],
   "source": [
    "movie_list"
   ]
  },
  {
   "cell_type": "markdown",
   "metadata": {},
   "source": [
    "#### Q15 請利用`列表解析`的方式完成下列答案"
   ]
  },
  {
   "cell_type": "code",
   "execution_count": 190,
   "metadata": {},
   "outputs": [],
   "source": [
    "movie_list = [str('電影:{}，票房第{}名'.format(i1,i2)) for i1, i2 in zip(movie , rank) if i2 ==1 or i2 ==10] #A1"
   ]
  },
  {
   "cell_type": "code",
   "execution_count": 191,
   "metadata": {},
   "outputs": [
    {
     "data": {
      "text/plain": [
       "['電影:玩具總動員 4，票房第1名', '電影:靠譜歌王，票房第10名']"
      ]
     },
     "execution_count": 191,
     "metadata": {},
     "output_type": "execute_result"
    }
   ],
   "source": [
    "movie_list"
   ]
  },
  {
   "cell_type": "code",
   "execution_count": 192,
   "metadata": {},
   "outputs": [],
   "source": [
    "movie_list = [str('電影:{}，票房第{}名'.format(i1,i2)) for i1, i2 in zip(movie , rank) if i2 ==1 or i2 == len(rank)] #A2"
   ]
  },
  {
   "cell_type": "code",
   "execution_count": 193,
   "metadata": {},
   "outputs": [
    {
     "data": {
      "text/plain": [
       "['電影:玩具總動員 4，票房第1名', '電影:靠譜歌王，票房第10名']"
      ]
     },
     "execution_count": 193,
     "metadata": {},
     "output_type": "execute_result"
    }
   ],
   "source": [
    "movie_list"
   ]
  },
  {
   "cell_type": "markdown",
   "metadata": {},
   "source": [
    "#### Q16 請簡述下列`語法錯誤`的原因"
   ]
  },
  {
   "cell_type": "markdown",
   "metadata": {},
   "source": [
    "(a) `len(4321)` "
   ]
  },
  {
   "cell_type": "markdown",
   "metadata": {},
   "source": [
    "(b) `int(\"dog\")` "
   ]
  },
  {
   "cell_type": "markdown",
   "metadata": {},
   "source": [
    "(c) `type(staff_list)`"
   ]
  },
  {
   "cell_type": "markdown",
   "metadata": {},
   "source": [
    "(d) `list1 = [ 'Apple' , [2 , 23 , 44], 3 ]` `list1[1][3]`"
   ]
  },
  {
   "cell_type": "markdown",
   "metadata": {},
   "source": [
    "#### Q17 請利用`異常錯誤處理`的方式將錯誤的`元素`轉換成0，並打印出新的列表和其列表總和"
   ]
  },
  {
   "cell_type": "code",
   "execution_count": 240,
   "metadata": {},
   "outputs": [],
   "source": [
    "list1 = [4 , 5 , 6 , '花千古'] "
   ]
  },
  {
   "cell_type": "code",
   "execution_count": 241,
   "metadata": {
    "scrolled": true
   },
   "outputs": [
    {
     "name": "stdout",
     "output_type": "stream",
     "text": [
      "[4, 5, 6, 0]\n",
      "15\n"
     ]
    }
   ],
   "source": [
    "try:\n",
    "    sum(list1)\n",
    "except:\n",
    "    for i in range(0,len(list1)):\n",
    "        if type(list1[i]) == str:\n",
    "            list1[i] = 0\n",
    "            print(list1)\n",
    "            print(sum(list1))"
   ]
  },
  {
   "cell_type": "markdown",
   "metadata": {},
   "source": [
    "#### Q18 `list1 = ['11' , '22'  , '33'  , '44'  , '55' ]`請利用`map`的方式將list1轉換成整數列表並求其合"
   ]
  },
  {
   "cell_type": "code",
   "execution_count": 1,
   "metadata": {},
   "outputs": [],
   "source": [
    "list1 = ['11' ,'22' ,'33' ,'44' ,'44' , '55']"
   ]
  },
  {
   "cell_type": "code",
   "execution_count": 4,
   "metadata": {},
   "outputs": [
    {
     "data": {
      "text/plain": [
       "209"
      ]
     },
     "execution_count": 4,
     "metadata": {},
     "output_type": "execute_result"
    }
   ],
   "source": [
    "sum(map(int,list1))"
   ]
  },
  {
   "cell_type": "markdown",
   "metadata": {},
   "source": [
    "#### Q19 先不要執行以下代碼，就你的理解，`print(a)`答案是多少?"
   ]
  },
  {
   "cell_type": "code",
   "execution_count": null,
   "metadata": {
    "scrolled": true
   },
   "outputs": [],
   "source": [
    "def error_test():\n",
    " \n",
    "    try:\n",
    "        print('我要去公園玩.....')\n",
    "        raise KeyError()\n",
    "        return 1\n",
    " \n",
    "    except KeyError:\n",
    "        print('key error')\n",
    "        return 2\n",
    " \n",
    "    else:\n",
    "        return 3\n",
    "    \n",
    "a = error_test()\n",
    "print(a)"
   ]
  },
  {
   "cell_type": "markdown",
   "metadata": {},
   "source": [
    "(a) 1"
   ]
  },
  {
   "cell_type": "markdown",
   "metadata": {},
   "source": [
    "(b) 2"
   ]
  },
  {
   "cell_type": "markdown",
   "metadata": {},
   "source": [
    "(c) 3"
   ]
  },
  {
   "cell_type": "markdown",
   "metadata": {},
   "source": [
    "(d) 4"
   ]
  },
  {
   "cell_type": "markdown",
   "metadata": {},
   "source": [
    "#### Q20 承上題，先不要執行以下代碼，就你的理解，`print(a)`答案是多少?"
   ]
  },
  {
   "cell_type": "code",
   "execution_count": null,
   "metadata": {},
   "outputs": [],
   "source": [
    "def error_test():\n",
    " \n",
    "    try:\n",
    "        print('我要去公園玩.....')\n",
    "        raise KeyError()\n",
    "        return 1\n",
    " \n",
    "    except KeyError:\n",
    "        print('key error')\n",
    "        return 2\n",
    " \n",
    "    else:\n",
    "        return 3\n",
    "    \n",
    "    finally:\n",
    "        return 4\n",
    "    \n",
    "a = error_test()\n",
    "print(a)"
   ]
  },
  {
   "cell_type": "markdown",
   "metadata": {},
   "source": [
    "(a) 1"
   ]
  },
  {
   "cell_type": "markdown",
   "metadata": {},
   "source": [
    "(b) 2"
   ]
  },
  {
   "cell_type": "markdown",
   "metadata": {},
   "source": [
    "(c) 3"
   ]
  },
  {
   "cell_type": "markdown",
   "metadata": {},
   "source": [
    "(d) 4"
   ]
  },
  {
   "cell_type": "markdown",
   "metadata": {},
   "source": [
    "#### Q21 先不要執行以下錯誤的`函數`，，請利用`pdb`或是`pyspooner`進行`debug`"
   ]
  },
  {
   "cell_type": "code",
   "execution_count": null,
   "metadata": {},
   "outputs": [],
   "source": [
    "list_test = ['大俠', 22, '漢堡', 46]\n",
    "def test():\n",
    "    for i in range(0,len(list_test)):\n",
    "        if list_test[i] == '大俠':\n",
    "            list_test[i] = '狗熊'\n",
    "        elif list_test[i] == '漢堡'\n",
    "            list_test[i] = '薯條'\n",
    "        elif list_test[i] == 22 :\n",
    "            list_test[i] = '雞塊'\n",
    "        else list_test[i] == 46 :\n",
    "            list_test[i] = '可樂'\n",
    "    return list_test\n",
    "test()"
   ]
  },
  {
   "cell_type": "code",
   "execution_count": 1,
   "metadata": {},
   "outputs": [],
   "source": [
    "import pdb"
   ]
  },
  {
   "cell_type": "code",
   "execution_count": 2,
   "metadata": {},
   "outputs": [
    {
     "name": "stdout",
     "output_type": "stream",
     "text": [
      "> <ipython-input-2-583dc2295add>(4)test()\n",
      "-> for i in range(0,len(list_test)):\n",
      "(Pdb) s\n",
      "> <ipython-input-2-583dc2295add>(5)test()\n",
      "-> if list_test[i] == '大俠':\n",
      "(Pdb) s\n",
      "> <ipython-input-2-583dc2295add>(6)test()\n",
      "-> list_test[i] = '狗熊'\n",
      "(Pdb) s\n",
      "> <ipython-input-2-583dc2295add>(4)test()\n",
      "-> for i in range(0,len(list_test)):\n",
      "(Pdb) s\n",
      "> <ipython-input-2-583dc2295add>(5)test()\n",
      "-> if list_test[i] == '大俠':\n",
      "(Pdb) s\n",
      "> <ipython-input-2-583dc2295add>(7)test()\n",
      "-> elif list_test[i] == '漢堡':\n",
      "(Pdb) s\n",
      "> <ipython-input-2-583dc2295add>(9)test()\n",
      "-> elif list_test[i] == 22 :\n",
      "(Pdb) s\n",
      "> <ipython-input-2-583dc2295add>(10)test()\n",
      "-> list_test[i] = '雞塊'\n",
      "(Pdb) s\n",
      "> <ipython-input-2-583dc2295add>(4)test()\n",
      "-> for i in range(0,len(list_test)):\n",
      "(Pdb) s\n",
      "> <ipython-input-2-583dc2295add>(5)test()\n",
      "-> if list_test[i] == '大俠':\n",
      "(Pdb) s\n",
      "> <ipython-input-2-583dc2295add>(7)test()\n",
      "-> elif list_test[i] == '漢堡':\n",
      "(Pdb) s\n",
      "> <ipython-input-2-583dc2295add>(8)test()\n",
      "-> list_test[i] = '薯條'\n",
      "(Pdb) s\n",
      "> <ipython-input-2-583dc2295add>(4)test()\n",
      "-> for i in range(0,len(list_test)):\n",
      "(Pdb) s\n",
      "> <ipython-input-2-583dc2295add>(5)test()\n",
      "-> if list_test[i] == '大俠':\n",
      "(Pdb) s\n",
      "> <ipython-input-2-583dc2295add>(7)test()\n",
      "-> elif list_test[i] == '漢堡':\n",
      "(Pdb) s\n",
      "> <ipython-input-2-583dc2295add>(9)test()\n",
      "-> elif list_test[i] == 22 :\n",
      "(Pdb) s\n",
      "> <ipython-input-2-583dc2295add>(12)test()\n",
      "-> list_test[i+1] = '可樂'\n",
      "(Pdb) s\n",
      "IndexError: list assignment index out of range\n",
      "> <ipython-input-2-583dc2295add>(12)test()\n",
      "-> list_test[i+1] = '可樂'\n",
      "(Pdb) q\n"
     ]
    },
    {
     "ename": "BdbQuit",
     "evalue": "",
     "output_type": "error",
     "traceback": [
      "\u001b[1;31m---------------------------------------------------------------------------\u001b[0m",
      "\u001b[1;31mBdbQuit\u001b[0m                                   Traceback (most recent call last)",
      "\u001b[1;32m<ipython-input-2-583dc2295add>\u001b[0m in \u001b[0;36m<module>\u001b[1;34m()\u001b[0m\n\u001b[0;32m     12\u001b[0m             \u001b[0mlist_test\u001b[0m\u001b[1;33m[\u001b[0m\u001b[0mi\u001b[0m\u001b[1;33m+\u001b[0m\u001b[1;36m1\u001b[0m\u001b[1;33m]\u001b[0m \u001b[1;33m=\u001b[0m \u001b[1;34m'可樂'\u001b[0m\u001b[1;33m\u001b[0m\u001b[0m\n\u001b[0;32m     13\u001b[0m     \u001b[1;32mreturn\u001b[0m \u001b[0mlist_test\u001b[0m\u001b[1;33m\u001b[0m\u001b[0m\n\u001b[1;32m---> 14\u001b[1;33m \u001b[0mtest\u001b[0m\u001b[1;33m(\u001b[0m\u001b[1;33m)\u001b[0m\u001b[1;33m\u001b[0m\u001b[0m\n\u001b[0m",
      "\u001b[1;32m<ipython-input-2-583dc2295add>\u001b[0m in \u001b[0;36mtest\u001b[1;34m()\u001b[0m\n\u001b[0;32m     10\u001b[0m             \u001b[0mlist_test\u001b[0m\u001b[1;33m[\u001b[0m\u001b[0mi\u001b[0m\u001b[1;33m]\u001b[0m \u001b[1;33m=\u001b[0m \u001b[1;34m'雞塊'\u001b[0m\u001b[1;33m\u001b[0m\u001b[0m\n\u001b[0;32m     11\u001b[0m         \u001b[1;32melse\u001b[0m \u001b[1;33m:\u001b[0m\u001b[1;33m\u001b[0m\u001b[0m\n\u001b[1;32m---> 12\u001b[1;33m             \u001b[0mlist_test\u001b[0m\u001b[1;33m[\u001b[0m\u001b[0mi\u001b[0m\u001b[1;33m+\u001b[0m\u001b[1;36m1\u001b[0m\u001b[1;33m]\u001b[0m \u001b[1;33m=\u001b[0m \u001b[1;34m'可樂'\u001b[0m\u001b[1;33m\u001b[0m\u001b[0m\n\u001b[0m\u001b[0;32m     13\u001b[0m     \u001b[1;32mreturn\u001b[0m \u001b[0mlist_test\u001b[0m\u001b[1;33m\u001b[0m\u001b[0m\n\u001b[0;32m     14\u001b[0m \u001b[0mtest\u001b[0m\u001b[1;33m(\u001b[0m\u001b[1;33m)\u001b[0m\u001b[1;33m\u001b[0m\u001b[0m\n",
      "\u001b[1;32mD:\\Python\\lib\\bdb.py\u001b[0m in \u001b[0;36mtrace_dispatch\u001b[1;34m(self, frame, event, arg)\u001b[0m\n\u001b[0;32m     55\u001b[0m             \u001b[1;32mreturn\u001b[0m \u001b[0mself\u001b[0m\u001b[1;33m.\u001b[0m\u001b[0mdispatch_return\u001b[0m\u001b[1;33m(\u001b[0m\u001b[0mframe\u001b[0m\u001b[1;33m,\u001b[0m \u001b[0marg\u001b[0m\u001b[1;33m)\u001b[0m\u001b[1;33m\u001b[0m\u001b[0m\n\u001b[0;32m     56\u001b[0m         \u001b[1;32mif\u001b[0m \u001b[0mevent\u001b[0m \u001b[1;33m==\u001b[0m \u001b[1;34m'exception'\u001b[0m\u001b[1;33m:\u001b[0m\u001b[1;33m\u001b[0m\u001b[0m\n\u001b[1;32m---> 57\u001b[1;33m             \u001b[1;32mreturn\u001b[0m \u001b[0mself\u001b[0m\u001b[1;33m.\u001b[0m\u001b[0mdispatch_exception\u001b[0m\u001b[1;33m(\u001b[0m\u001b[0mframe\u001b[0m\u001b[1;33m,\u001b[0m \u001b[0marg\u001b[0m\u001b[1;33m)\u001b[0m\u001b[1;33m\u001b[0m\u001b[0m\n\u001b[0m\u001b[0;32m     58\u001b[0m         \u001b[1;32mif\u001b[0m \u001b[0mevent\u001b[0m \u001b[1;33m==\u001b[0m \u001b[1;34m'c_call'\u001b[0m\u001b[1;33m:\u001b[0m\u001b[1;33m\u001b[0m\u001b[0m\n\u001b[0;32m     59\u001b[0m             \u001b[1;32mreturn\u001b[0m \u001b[0mself\u001b[0m\u001b[1;33m.\u001b[0m\u001b[0mtrace_dispatch\u001b[0m\u001b[1;33m\u001b[0m\u001b[0m\n",
      "\u001b[1;32mD:\\Python\\lib\\bdb.py\u001b[0m in \u001b[0;36mdispatch_exception\u001b[1;34m(self, frame, arg)\u001b[0m\n\u001b[0;32m    111\u001b[0m                     and arg[0] is StopIteration and arg[2] is None):\n\u001b[0;32m    112\u001b[0m                 \u001b[0mself\u001b[0m\u001b[1;33m.\u001b[0m\u001b[0muser_exception\u001b[0m\u001b[1;33m(\u001b[0m\u001b[0mframe\u001b[0m\u001b[1;33m,\u001b[0m \u001b[0marg\u001b[0m\u001b[1;33m)\u001b[0m\u001b[1;33m\u001b[0m\u001b[0m\n\u001b[1;32m--> 113\u001b[1;33m                 \u001b[1;32mif\u001b[0m \u001b[0mself\u001b[0m\u001b[1;33m.\u001b[0m\u001b[0mquitting\u001b[0m\u001b[1;33m:\u001b[0m \u001b[1;32mraise\u001b[0m \u001b[0mBdbQuit\u001b[0m\u001b[1;33m\u001b[0m\u001b[0m\n\u001b[0m\u001b[0;32m    114\u001b[0m         \u001b[1;31m# Stop at the StopIteration or GeneratorExit exception when the user\u001b[0m\u001b[1;33m\u001b[0m\u001b[1;33m\u001b[0m\u001b[0m\n\u001b[0;32m    115\u001b[0m         \u001b[1;31m# has set stopframe in a generator by issuing a return command, or a\u001b[0m\u001b[1;33m\u001b[0m\u001b[1;33m\u001b[0m\u001b[0m\n",
      "\u001b[1;31mBdbQuit\u001b[0m: "
     ]
    }
   ],
   "source": [
    "list_test = ['大俠', 22, '漢堡', 46]\n",
    "def test():\n",
    "    pdb.set_trace()\n",
    "    for i in range(0,len(list_test)):\n",
    "        if list_test[i] == '大俠':\n",
    "            list_test[i] = '狗熊'\n",
    "        elif list_test[i] == '漢堡':\n",
    "            list_test[i] = '薯條'\n",
    "        elif list_test[i] == 22 :\n",
    "            list_test[i] = '雞塊'\n",
    "        else :\n",
    "            list_test[i+1] = '可樂'\n",
    "    return list_test\n",
    "test()"
   ]
  },
  {
   "cell_type": "code",
   "execution_count": 3,
   "metadata": {},
   "outputs": [],
   "source": [
    "import pysnooper"
   ]
  },
  {
   "cell_type": "code",
   "execution_count": 4,
   "metadata": {},
   "outputs": [
    {
     "name": "stderr",
     "output_type": "stream",
     "text": [
      "11:45:55.896759 call         3 def test():\n",
      "11:45:55.897225 line         4     for i in range(0,len(list_test)):\n",
      "New var:....... i = 0\n",
      "11:45:55.897225 line         5         if list_test[i] == '大俠':\n",
      "11:45:55.897225 line         6             list_test[i] = '狗熊'\n",
      "11:45:55.897225 line         4     for i in range(0,len(list_test)):\n",
      "Modified var:.. i = 1\n",
      "11:45:55.897721 line         5         if list_test[i] == '大俠':\n",
      "11:45:55.897721 line         7         elif list_test[i] == '漢堡':\n",
      "11:45:55.897721 line         9         elif list_test[i] == 22 :\n",
      "11:45:55.897721 line        10             list_test[i] = '雞塊'\n",
      "11:45:55.897721 line         4     for i in range(0,len(list_test)):\n",
      "Modified var:.. i = 2\n",
      "11:45:55.898216 line         5         if list_test[i] == '大俠':\n",
      "11:45:55.898216 line         7         elif list_test[i] == '漢堡':\n",
      "11:45:55.898216 line         8             list_test[i] = '薯條'\n",
      "11:45:55.898216 line         4     for i in range(0,len(list_test)):\n",
      "Modified var:.. i = 3\n",
      "11:45:55.898712 line         5         if list_test[i] == '大俠':\n",
      "11:45:55.898712 line         7         elif list_test[i] == '漢堡':\n",
      "11:45:55.898712 line         9         elif list_test[i] == 22 :\n",
      "11:45:55.898712 line        12             list_test[i+1] = '可樂'\n",
      "11:45:55.898712 exception   12             list_test[i+1] = '可樂'\n",
      "IndexError: list assignment index out of range\n",
      "Call ended by exception\n"
     ]
    },
    {
     "ename": "IndexError",
     "evalue": "list assignment index out of range",
     "output_type": "error",
     "traceback": [
      "\u001b[1;31m---------------------------------------------------------------------------\u001b[0m",
      "\u001b[1;31mIndexError\u001b[0m                                Traceback (most recent call last)",
      "\u001b[1;32m<ipython-input-4-7b23f5ac5913>\u001b[0m in \u001b[0;36m<module>\u001b[1;34m()\u001b[0m\n\u001b[0;32m     12\u001b[0m             \u001b[0mlist_test\u001b[0m\u001b[1;33m[\u001b[0m\u001b[0mi\u001b[0m\u001b[1;33m+\u001b[0m\u001b[1;36m1\u001b[0m\u001b[1;33m]\u001b[0m \u001b[1;33m=\u001b[0m \u001b[1;34m'可樂'\u001b[0m\u001b[1;33m\u001b[0m\u001b[0m\n\u001b[0;32m     13\u001b[0m     \u001b[1;32mreturn\u001b[0m \u001b[0mlist_test\u001b[0m\u001b[1;33m\u001b[0m\u001b[0m\n\u001b[1;32m---> 14\u001b[1;33m \u001b[0mtest\u001b[0m\u001b[1;33m(\u001b[0m\u001b[1;33m)\u001b[0m\u001b[1;33m\u001b[0m\u001b[0m\n\u001b[0m",
      "\u001b[1;32mD:\\Python\\lib\\site-packages\\pysnooper\\tracer.py\u001b[0m in \u001b[0;36msimple_wrapper\u001b[1;34m(*args, **kwargs)\u001b[0m\n\u001b[0;32m    225\u001b[0m         \u001b[1;32mdef\u001b[0m \u001b[0msimple_wrapper\u001b[0m\u001b[1;33m(\u001b[0m\u001b[1;33m*\u001b[0m\u001b[0margs\u001b[0m\u001b[1;33m,\u001b[0m \u001b[1;33m**\u001b[0m\u001b[0mkwargs\u001b[0m\u001b[1;33m)\u001b[0m\u001b[1;33m:\u001b[0m\u001b[1;33m\u001b[0m\u001b[0m\n\u001b[0;32m    226\u001b[0m             \u001b[1;32mwith\u001b[0m \u001b[0mself\u001b[0m\u001b[1;33m:\u001b[0m\u001b[1;33m\u001b[0m\u001b[0m\n\u001b[1;32m--> 227\u001b[1;33m                 \u001b[1;32mreturn\u001b[0m \u001b[0mfunction\u001b[0m\u001b[1;33m(\u001b[0m\u001b[1;33m*\u001b[0m\u001b[0margs\u001b[0m\u001b[1;33m,\u001b[0m \u001b[1;33m**\u001b[0m\u001b[0mkwargs\u001b[0m\u001b[1;33m)\u001b[0m\u001b[1;33m\u001b[0m\u001b[0m\n\u001b[0m\u001b[0;32m    228\u001b[0m \u001b[1;33m\u001b[0m\u001b[0m\n\u001b[0;32m    229\u001b[0m         \u001b[1;33m@\u001b[0m\u001b[0mfunctools\u001b[0m\u001b[1;33m.\u001b[0m\u001b[0mwraps\u001b[0m\u001b[1;33m(\u001b[0m\u001b[0mfunction\u001b[0m\u001b[1;33m)\u001b[0m\u001b[1;33m\u001b[0m\u001b[0m\n",
      "\u001b[1;32m<ipython-input-4-7b23f5ac5913>\u001b[0m in \u001b[0;36mtest\u001b[1;34m()\u001b[0m\n\u001b[0;32m     10\u001b[0m             \u001b[0mlist_test\u001b[0m\u001b[1;33m[\u001b[0m\u001b[0mi\u001b[0m\u001b[1;33m]\u001b[0m \u001b[1;33m=\u001b[0m \u001b[1;34m'雞塊'\u001b[0m\u001b[1;33m\u001b[0m\u001b[0m\n\u001b[0;32m     11\u001b[0m         \u001b[1;32melse\u001b[0m \u001b[1;33m:\u001b[0m\u001b[1;33m\u001b[0m\u001b[0m\n\u001b[1;32m---> 12\u001b[1;33m             \u001b[0mlist_test\u001b[0m\u001b[1;33m[\u001b[0m\u001b[0mi\u001b[0m\u001b[1;33m+\u001b[0m\u001b[1;36m1\u001b[0m\u001b[1;33m]\u001b[0m \u001b[1;33m=\u001b[0m \u001b[1;34m'可樂'\u001b[0m\u001b[1;33m\u001b[0m\u001b[0m\n\u001b[0m\u001b[0;32m     13\u001b[0m     \u001b[1;32mreturn\u001b[0m \u001b[0mlist_test\u001b[0m\u001b[1;33m\u001b[0m\u001b[0m\n\u001b[0;32m     14\u001b[0m \u001b[0mtest\u001b[0m\u001b[1;33m(\u001b[0m\u001b[1;33m)\u001b[0m\u001b[1;33m\u001b[0m\u001b[0m\n",
      "\u001b[1;31mIndexError\u001b[0m: list assignment index out of range"
     ]
    }
   ],
   "source": [
    "list_test = ['大俠', 22, '漢堡', 46]\n",
    "@pysnooper.snoop()\n",
    "def test():\n",
    "    for i in range(0,len(list_test)):\n",
    "        if list_test[i] == '大俠':\n",
    "            list_test[i] = '狗熊'\n",
    "        elif list_test[i] == '漢堡':\n",
    "            list_test[i] = '薯條'\n",
    "        elif list_test[i] == 22 :\n",
    "            list_test[i] = '雞塊'\n",
    "        else :\n",
    "            list_test[i+1] = '可樂'\n",
    "    return list_test\n",
    "test()"
   ]
  },
  {
   "cell_type": "markdown",
   "metadata": {},
   "source": [
    "#### Q22 請建立一個可以`篩選`列表元素中是否大於10的`函數`"
   ]
  },
  {
   "cell_type": "code",
   "execution_count": null,
   "metadata": {},
   "outputs": [],
   "source": [
    "def more_than3(list_test):\n",
    "    list_result = []\n",
    "    for i in list_test:\n",
    "        if i >3:\n",
    "            list_result.append(i)\n",
    "    return list_result"
   ]
  },
  {
   "cell_type": "markdown",
   "metadata": {},
   "source": [
    "#### Q23 承上題，建立`list1`、`list2`、`list3`的文檔測試`(doc test)`"
   ]
  },
  {
   "cell_type": "code",
   "execution_count": 1,
   "metadata": {},
   "outputs": [],
   "source": [
    "import doctest"
   ]
  },
  {
   "cell_type": "code",
   "execution_count": null,
   "metadata": {},
   "outputs": [],
   "source": [
    "list1 = [1, 15, 22]\n",
    "list2 = [44 , 2 ,11]\n",
    "list3 = [11, 2, 1, 0, 23, 55]"
   ]
  },
  {
   "cell_type": "code",
   "execution_count": 11,
   "metadata": {},
   "outputs": [],
   "source": [
    "def more_than3(list_test):    \n",
    "    \"\"\"\n",
    "    >>> more_than3(list1)\n",
    "    [15, 22]\n",
    "    \n",
    "    >>> more_than3(list2)\n",
    "    [44, 11]\n",
    "    \n",
    "    >>> more_than3(list3)\n",
    "    [11, 23, 55]\n",
    "    \n",
    "    \"\"\"    \n",
    "    list_result = []\n",
    "    for i in list_test:\n",
    "        if i >3:\n",
    "            list_result.append(i)\n",
    "    return list_result"
   ]
  },
  {
   "cell_type": "code",
   "execution_count": 12,
   "metadata": {
    "scrolled": false
   },
   "outputs": [
    {
     "name": "stdout",
     "output_type": "stream",
     "text": [
      "Trying:\n",
      "    more_than3(list1)\n",
      "Expecting:\n",
      "    [15, 22]\n",
      "ok\n",
      "Trying:\n",
      "    more_than3(list2)\n",
      "Expecting:\n",
      "    [44, 11]\n",
      "ok\n",
      "Trying:\n",
      "    more_than3(list3)\n",
      "Expecting:\n",
      "    [11, 23, 55]\n",
      "ok\n",
      "1 items had no tests:\n",
      "    __main__\n",
      "1 items passed all tests:\n",
      "   3 tests in __main__.more_than3\n",
      "3 tests in 2 items.\n",
      "3 passed and 0 failed.\n",
      "Test passed.\n"
     ]
    },
    {
     "data": {
      "text/plain": [
       "TestResults(failed=0, attempted=3)"
      ]
     },
     "execution_count": 12,
     "metadata": {},
     "output_type": "execute_result"
    }
   ],
   "source": [
    "doctest.testmod(verbose=True)"
   ]
  },
  {
   "cell_type": "markdown",
   "metadata": {},
   "source": [
    "#### Q24 試著讀取文件`   `"
   ]
  },
  {
   "cell_type": "code",
   "execution_count": null,
   "metadata": {},
   "outputs": [],
   "source": []
  }
 ],
 "metadata": {
  "kernelspec": {
   "display_name": "Python 3",
   "language": "python",
   "name": "python3"
  },
  "language_info": {
   "codemirror_mode": {
    "name": "ipython",
    "version": 3
   },
   "file_extension": ".py",
   "mimetype": "text/x-python",
   "name": "python",
   "nbconvert_exporter": "python",
   "pygments_lexer": "ipython3",
   "version": "3.6.5"
  }
 },
 "nbformat": 4,
 "nbformat_minor": 2
}
