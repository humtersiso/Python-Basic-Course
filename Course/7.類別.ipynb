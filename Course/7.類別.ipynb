{
 "cells": [
  {
   "cell_type": "markdown",
   "metadata": {},
   "source": [
    "## 7. 類別\n",
    "#### a 類 (class)\n",
    "* 基本概念\n",
    "* 私有屬性\n",
    "* 裝飾器 (property)\n",
    "* 繼承與多態"
   ]
  },
  {
   "cell_type": "markdown",
   "metadata": {},
   "source": [
    "***"
   ]
  },
  {
   "cell_type": "markdown",
   "metadata": {},
   "source": [
    "#### a 類 (class)\n",
    "* 基本概念"
   ]
  },
  {
   "cell_type": "code",
   "execution_count": 6,
   "metadata": {},
   "outputs": [],
   "source": [
    "class movie_list:\n",
    "    \n",
    "    \n",
    "    def __init__(self, title, rank):\n",
    "        self.title = title\n",
    "        self.rank = rank ##定義屬性(attribute)\n",
    "        \n",
    "    ##方法(method)\n",
    "    def choose_movie(self):\n",
    "        print('我要看{}，因為這部電影排名第{}'.format(self.title ,self.rank))\n",
    "    \n",
    "    "
   ]
  },
  {
   "cell_type": "code",
   "execution_count": 77,
   "metadata": {},
   "outputs": [
    {
     "data": {
      "text/plain": [
       "<function __main__.movie_list.choose_movie(self)>"
      ]
     },
     "execution_count": 77,
     "metadata": {},
     "output_type": "execute_result"
    }
   ],
   "source": [
    "movie_list.choose_movie"
   ]
  },
  {
   "cell_type": "code",
   "execution_count": 8,
   "metadata": {},
   "outputs": [],
   "source": [
    "movie = movie_list(title = '玩具總動員' ,rank = 1)"
   ]
  },
  {
   "cell_type": "code",
   "execution_count": 10,
   "metadata": {
    "scrolled": true
   },
   "outputs": [
    {
     "data": {
      "text/plain": [
       "('玩具總動員', 1)"
      ]
     },
     "execution_count": 10,
     "metadata": {},
     "output_type": "execute_result"
    }
   ],
   "source": [
    "movie.title , movie.rank"
   ]
  },
  {
   "cell_type": "code",
   "execution_count": 12,
   "metadata": {},
   "outputs": [
    {
     "name": "stdout",
     "output_type": "stream",
     "text": [
      "我要看玩具總動員，因為這部電影排名第1\n"
     ]
    }
   ],
   "source": [
    "movie.choose_movie()"
   ]
  },
  {
   "cell_type": "code",
   "execution_count": 13,
   "metadata": {},
   "outputs": [],
   "source": [
    "movie.title = '寄生上流'"
   ]
  },
  {
   "cell_type": "code",
   "execution_count": 14,
   "metadata": {},
   "outputs": [
    {
     "name": "stdout",
     "output_type": "stream",
     "text": [
      "我要看寄生上流，因為這部電影排名第1\n"
     ]
    }
   ],
   "source": [
    "movie.choose_movie()"
   ]
  },
  {
   "cell_type": "code",
   "execution_count": 61,
   "metadata": {},
   "outputs": [],
   "source": [
    "class  app_Test:\n",
    "\n",
    "    def setUp(self):\n",
    " \n",
    "        #設定執行引數 (屬性)\n",
    "        capabilities = {}\n",
    "        capabilities['platformName'] = 'Android'\n",
    "        capabilities['platformVersion'] = '5.1'\n",
    "        capabilities['deviceName'] = 'Android Emulator'\n",
    "        capabilities['appPackage'] = 'com.yuanyou.office'\n",
    "        capabilities['app'] = PATH('./apps/app-release.apk')\n",
    "        capabilities['unicodeKeyboard'] = 'True'\n",
    "        capabilities['resetKeyboard'] = 'True'\n",
    "        driver = webdriver.Remote('http://localhost:4723/wd/hub', capabilities)\n",
    "        self.driver = driver\n",
    "        self.LIST_LATIN  = \"adb shell ime set com.android.inputmethod.latin/.LatinIME\"\n",
    "        self.LIST_APPIUM = \"adb shell ime set io.appium.android.ime/.UnicodeIME\"\n",
    "\n",
    "    def test_login(self):\n",
    "        \n",
    "        ##方法\n",
    "        #切換輸入法\n",
    "        os.system(self.LIST_LATIN)\n",
    "        #設定賬號\n",
    "        self.driver.find_element_by_id('et_phone').send_keys('15922222222')\n",
    "        self.driver.find_element_by_id('et_pwd').send_keys('123456')\n",
    "        #點選登陸\n",
    "        self.driver.find_element_by_id('btn_login').click()\n",
    "        #點選登陸\n",
    "        self.driver.find_element_by_id('btn_login').click()\n",
    "        #切換輸入法\n",
    "        os.system(self.LIST_APPIUM)\n",
    "        #模擬請假申請\n",
    "        list = self.driver.find_elements_by_id('work_gridview_item_LL')\n",
    "        list[3].click()\n",
    "        list1 = self.driver.find_elements_by_id(\"ll\")\n",
    "        list1[0].click()\n",
    "        \n",
    "    def tearDown(self):\n",
    "        self.driver.quit()  "
   ]
  },
  {
   "cell_type": "code",
   "execution_count": null,
   "metadata": {},
   "outputs": [],
   "source": [
    "suite = unittest.TestLoader().loadTestsFromTestCase(app_Test)      "
   ]
  },
  {
   "cell_type": "markdown",
   "metadata": {},
   "source": [
    "* 私有屬性"
   ]
  },
  {
   "cell_type": "code",
   "execution_count": null,
   "metadata": {},
   "outputs": [],
   "source": [
    "## 當創建的class裡面的屬性不想被人直接取用或是修改時"
   ]
  },
  {
   "cell_type": "code",
   "execution_count": 35,
   "metadata": {},
   "outputs": [],
   "source": [
    "class movie_list:\n",
    "        \n",
    "    def __init__(self, title, rank):\n",
    "        self.title = title\n",
    "        self.rank = rank ##定義屬性(attribute)\n",
    "        \n",
    "    ##方法(method)\n",
    "    def choose_movie(self):\n",
    "        print('我要看{}，因為這部電影排名第{}'.format(self.title ,self.rank))"
   ]
  },
  {
   "cell_type": "code",
   "execution_count": 36,
   "metadata": {},
   "outputs": [
    {
     "data": {
      "text/plain": [
       "('玩具總動員', 1)"
      ]
     },
     "execution_count": 36,
     "metadata": {},
     "output_type": "execute_result"
    }
   ],
   "source": [
    "movie = movie_list(title = '玩具總動員' ,rank = 1)\n",
    "movie.title , movie.rank"
   ]
  },
  {
   "cell_type": "code",
   "execution_count": 37,
   "metadata": {},
   "outputs": [],
   "source": [
    "class movie_list:\n",
    "       \n",
    "    def __init__(self, title, rank):\n",
    "        self.__title = title\n",
    "        self.__rank = rank ##定義屬性(attribute)\n",
    "        \n",
    "    ##方法(method)\n",
    "    def choose_movie(self):\n",
    "        print('我要看{}，因為這部電影排名第{}'.format(self.title ,self.rank))"
   ]
  },
  {
   "cell_type": "code",
   "execution_count": 38,
   "metadata": {},
   "outputs": [
    {
     "ename": "AttributeError",
     "evalue": "'movie_list' object has no attribute 'title'",
     "output_type": "error",
     "traceback": [
      "\u001b[1;31m---------------------------------------------------------------------------\u001b[0m",
      "\u001b[1;31mAttributeError\u001b[0m                            Traceback (most recent call last)",
      "\u001b[1;32m<ipython-input-38-0e2aa9c2a658>\u001b[0m in \u001b[0;36m<module>\u001b[1;34m()\u001b[0m\n\u001b[0;32m      1\u001b[0m \u001b[0mmovie\u001b[0m \u001b[1;33m=\u001b[0m \u001b[0mmovie_list\u001b[0m\u001b[1;33m(\u001b[0m\u001b[0mtitle\u001b[0m \u001b[1;33m=\u001b[0m \u001b[1;34m'玩具總動員'\u001b[0m \u001b[1;33m,\u001b[0m\u001b[0mrank\u001b[0m \u001b[1;33m=\u001b[0m \u001b[1;36m1\u001b[0m\u001b[1;33m)\u001b[0m\u001b[1;33m\u001b[0m\u001b[0m\n\u001b[1;32m----> 2\u001b[1;33m \u001b[0mmovie\u001b[0m\u001b[1;33m.\u001b[0m\u001b[0mtitle\u001b[0m \u001b[1;33m,\u001b[0m \u001b[0mmovie\u001b[0m\u001b[1;33m.\u001b[0m\u001b[0mrank\u001b[0m\u001b[1;33m\u001b[0m\u001b[0m\n\u001b[0m",
      "\u001b[1;31mAttributeError\u001b[0m: 'movie_list' object has no attribute 'title'"
     ]
    }
   ],
   "source": [
    "movie = movie_list(title = '玩具總動員' ,rank = 1)\n",
    "movie.title , movie.rank"
   ]
  },
  {
   "cell_type": "code",
   "execution_count": 73,
   "metadata": {},
   "outputs": [],
   "source": [
    "class ubi_discount:\n",
    "       \n",
    "    def __init__(self, totoal_mileage, peak_ratio, driving_behavior):\n",
    "        self.__totoal_mileage = totoal_mileage\n",
    "        self.__peak_ratio = peak_ratio\n",
    "        self.__driving_behavior = driving_behavior\n",
    "\n",
    "    def get_score(self):\n",
    "        self.__score = 1.5 * self.__totoal_mileage + \\\n",
    "                       2.25 * self.__peak_ratio -\\\n",
    "                       1.56 * self.__driving_behavior\n",
    "        return self.__score\n",
    "\n",
    "    def get_discount(self):\n",
    "        self.__ubi_dis = 25.8\n",
    "        \n",
    "        if self.__score >200:\n",
    "            return self.__ubi_dis -10\n",
    "        elif self.__score >100 and self.__score<=200:\n",
    "            return self.__ubi_dis -15\n",
    "        else:    \n",
    "            return self.__ubi_dis -20.8"
   ]
  },
  {
   "cell_type": "code",
   "execution_count": 74,
   "metadata": {},
   "outputs": [],
   "source": [
    "u1 = ubi_discount(100,100,100)"
   ]
  },
  {
   "cell_type": "code",
   "execution_count": 75,
   "metadata": {},
   "outputs": [
    {
     "data": {
      "text/plain": [
       "219.0"
      ]
     },
     "execution_count": 75,
     "metadata": {},
     "output_type": "execute_result"
    }
   ],
   "source": [
    "u1.get_score()"
   ]
  },
  {
   "cell_type": "code",
   "execution_count": 76,
   "metadata": {},
   "outputs": [
    {
     "data": {
      "text/plain": [
       "15.8"
      ]
     },
     "execution_count": 76,
     "metadata": {},
     "output_type": "execute_result"
    }
   ],
   "source": [
    "u1.get_discount()"
   ]
  },
  {
   "cell_type": "code",
   "execution_count": 78,
   "metadata": {},
   "outputs": [
    {
     "ename": "AttributeError",
     "evalue": "'ubi_discount' object has no attribute 'totoal_mileage'",
     "output_type": "error",
     "traceback": [
      "\u001b[1;31m---------------------------------------------------------------------------\u001b[0m",
      "\u001b[1;31mAttributeError\u001b[0m                            Traceback (most recent call last)",
      "\u001b[1;32m<ipython-input-78-a1fccf070143>\u001b[0m in \u001b[0;36m<module>\u001b[1;34m()\u001b[0m\n\u001b[1;32m----> 1\u001b[1;33m \u001b[0mu1\u001b[0m\u001b[1;33m.\u001b[0m\u001b[0mtotoal_mileage\u001b[0m\u001b[1;33m\u001b[0m\u001b[0m\n\u001b[0m",
      "\u001b[1;31mAttributeError\u001b[0m: 'ubi_discount' object has no attribute 'totoal_mileage'"
     ]
    }
   ],
   "source": [
    "u1.totoal_mileage"
   ]
  },
  {
   "cell_type": "markdown",
   "metadata": {},
   "source": [
    "* 裝飾器"
   ]
  },
  {
   "cell_type": "code",
   "execution_count": 84,
   "metadata": {},
   "outputs": [],
   "source": [
    "class ubi_discount:\n",
    "       \n",
    "    def __init__(self, totoal_mileage, peak_ratio, driving_behavior):\n",
    "        self.__totoal_mileage = totoal_mileage\n",
    "        self.__peak_ratio = peak_ratio\n",
    "        self.__driving_behavior = driving_behavior\n",
    "    \n",
    "    @property #裝飾器\n",
    "    def score(self):\n",
    "        self.__score = 1.5 * self.__totoal_mileage + \\\n",
    "                       2.25 * self.__peak_ratio -\\\n",
    "                       1.56 * self.__driving_behavior\n",
    "        return self.__score\n",
    "    \n",
    "    \n",
    "    \n",
    "    @property\n",
    "    def discount(self):\n",
    "        self.__ubi_dis = 25.8\n",
    "        \n",
    "        if self.__score >200:\n",
    "            return self.__ubi_dis -10\n",
    "        elif self.__score >100 and self.__score<=200:\n",
    "            return self.__ubi_dis -15\n",
    "        else:    \n",
    "            return self.__ubi_dis -20.8\n",
    "        \n",
    "    "
   ]
  },
  {
   "cell_type": "code",
   "execution_count": 85,
   "metadata": {},
   "outputs": [],
   "source": [
    "u1 = ubi_discount(100,80,90)"
   ]
  },
  {
   "cell_type": "code",
   "execution_count": 86,
   "metadata": {},
   "outputs": [
    {
     "data": {
      "text/plain": [
       "189.6"
      ]
     },
     "execution_count": 86,
     "metadata": {},
     "output_type": "execute_result"
    }
   ],
   "source": [
    "u1.score"
   ]
  },
  {
   "cell_type": "code",
   "execution_count": 87,
   "metadata": {},
   "outputs": [
    {
     "data": {
      "text/plain": [
       "10.8"
      ]
     },
     "execution_count": 87,
     "metadata": {},
     "output_type": "execute_result"
    }
   ],
   "source": [
    "u1.discount"
   ]
  },
  {
   "cell_type": "code",
   "execution_count": 112,
   "metadata": {},
   "outputs": [],
   "source": [
    "u1 = ubi_discount(100,80,90)"
   ]
  },
  {
   "cell_type": "code",
   "execution_count": 113,
   "metadata": {},
   "outputs": [
    {
     "data": {
      "text/plain": [
       "189.6"
      ]
     },
     "execution_count": 113,
     "metadata": {},
     "output_type": "execute_result"
    }
   ],
   "source": [
    "u1.score"
   ]
  },
  {
   "cell_type": "code",
   "execution_count": 114,
   "metadata": {
    "scrolled": true
   },
   "outputs": [
    {
     "data": {
      "text/plain": [
       "10.8"
      ]
     },
     "execution_count": 114,
     "metadata": {},
     "output_type": "execute_result"
    }
   ],
   "source": [
    "u1.discount"
   ]
  },
  {
   "cell_type": "code",
   "execution_count": 53,
   "metadata": {},
   "outputs": [],
   "source": [
    "class ubi_discount:\n",
    "       \n",
    "    def __init__(self, totoal_mileage, peak_ratio, driving_behavior):\n",
    "        self.__totoal_mileage = totoal_mileage\n",
    "        self.__peak_ratio = peak_ratio\n",
    "        self.__driving_behavior = driving_behavior\n",
    "    \n",
    "    @property #裝飾器\n",
    "    def score(self):\n",
    "        self.__score = 1.5 * self.__totoal_mileage + \\\n",
    "                       2.25 * self.__peak_ratio -\\\n",
    "                       1.56 * self.__driving_behavior\n",
    "        return self.__score\n",
    "    \n",
    "    \n",
    "    \n",
    "    @property\n",
    "    def discount(self):\n",
    "        self.__ubi_dis = 25.8\n",
    "        \n",
    "        if self.__score >200:\n",
    "            return self.__ubi_dis -10\n",
    "        elif self.__score >100 and self.__score<=200:\n",
    "            return self.__ubi_dis -15\n",
    "        else:    \n",
    "            return self.__ubi_dis -20.8\n",
    "        \n",
    "    @score.setter\n",
    "    def score(self, value):\n",
    "        self.__score = value"
   ]
  },
  {
   "cell_type": "code",
   "execution_count": 54,
   "metadata": {},
   "outputs": [],
   "source": [
    "u1 = ubi_discount(100,80,90)"
   ]
  },
  {
   "cell_type": "code",
   "execution_count": 56,
   "metadata": {},
   "outputs": [
    {
     "data": {
      "text/plain": [
       "189.6"
      ]
     },
     "execution_count": 56,
     "metadata": {},
     "output_type": "execute_result"
    }
   ],
   "source": [
    "u1.score"
   ]
  },
  {
   "cell_type": "code",
   "execution_count": 131,
   "metadata": {
    "scrolled": true
   },
   "outputs": [
    {
     "data": {
      "text/plain": [
       "10.8"
      ]
     },
     "execution_count": 131,
     "metadata": {},
     "output_type": "execute_result"
    }
   ],
   "source": [
    "u1.discount"
   ]
  },
  {
   "cell_type": "code",
   "execution_count": 132,
   "metadata": {},
   "outputs": [],
   "source": [
    "u1.score = 79"
   ]
  },
  {
   "cell_type": "code",
   "execution_count": 133,
   "metadata": {},
   "outputs": [
    {
     "data": {
      "text/plain": [
       "5.0"
      ]
     },
     "execution_count": 133,
     "metadata": {},
     "output_type": "execute_result"
    }
   ],
   "source": [
    "u1.discount"
   ]
  },
  {
   "cell_type": "markdown",
   "metadata": {},
   "source": [
    "* 繼承與多態"
   ]
  },
  {
   "cell_type": "code",
   "execution_count": 74,
   "metadata": {},
   "outputs": [],
   "source": [
    "class Animal:    \n",
    "    def __init__(self, name):\n",
    "        self.name = name\n",
    "    \n",
    "    def greet(self):\n",
    "        print ('你好! 我是{}'.format(self.name))"
   ]
  },
  {
   "cell_type": "code",
   "execution_count": 75,
   "metadata": {},
   "outputs": [],
   "source": [
    "animal = Animal('動物')"
   ]
  },
  {
   "cell_type": "code",
   "execution_count": 77,
   "metadata": {},
   "outputs": [
    {
     "name": "stdout",
     "output_type": "stream",
     "text": [
      "你好! 我是動物\n"
     ]
    }
   ],
   "source": [
    "animal.greet()"
   ]
  },
  {
   "cell_type": "code",
   "execution_count": 86,
   "metadata": {},
   "outputs": [],
   "source": [
    "#我們想要新創一個bird的子類，但可以發現幾乎和原來的父類class一樣，因此只要繼承再做修改即可"
   ]
  },
  {
   "cell_type": "code",
   "execution_count": null,
   "metadata": {},
   "outputs": [],
   "source": [
    "class Bird:    \n",
    "    def __init__(self, name):\n",
    "        self.name = name\n",
    "    \n",
    "    def greet(self):\n",
    "        print ('啾啾! 我是{}'.format(self.name))"
   ]
  },
  {
   "cell_type": "code",
   "execution_count": 78,
   "metadata": {},
   "outputs": [],
   "source": [
    "class Bird(Animal):\n",
    "    def greet(self):\n",
    "        print ('啾啾! 我是{}'.format(self.name))"
   ]
  },
  {
   "cell_type": "code",
   "execution_count": 79,
   "metadata": {},
   "outputs": [],
   "source": [
    "bird = Bird('麻雀')"
   ]
  },
  {
   "cell_type": "code",
   "execution_count": 81,
   "metadata": {},
   "outputs": [
    {
     "name": "stdout",
     "output_type": "stream",
     "text": [
      "啾啾! 我是麻雀\n"
     ]
    }
   ],
   "source": [
    "bird.greet()"
   ]
  },
  {
   "cell_type": "code",
   "execution_count": 82,
   "metadata": {},
   "outputs": [],
   "source": [
    "class Bird(Animal):\n",
    "    def greet(self):\n",
    "        print ('啾啾! 我是{}'.format(self.name))\n",
    "    def eat(self):\n",
    "        print ('我是{}，我正在吃東西'.format(self.name))"
   ]
  },
  {
   "cell_type": "code",
   "execution_count": 85,
   "metadata": {},
   "outputs": [
    {
     "name": "stdout",
     "output_type": "stream",
     "text": [
      "我是斑鳩，我正在吃東西\n"
     ]
    }
   ],
   "source": [
    "bird = Bird('斑鳩')\n",
    "bird.eat()"
   ]
  },
  {
   "cell_type": "code",
   "execution_count": 1,
   "metadata": {},
   "outputs": [],
   "source": [
    "class Animal:    \n",
    "    def __init__(self, name):\n",
    "        self.name = name    \n",
    "    def greet(self):\n",
    "        print ('你好! 我是{}'.format(self.name))\n",
    "        \n",
    "class Bird(Animal):    \n",
    "    def greet(self):\n",
    "        print ('啾啾! 我是{}'.format(self.name))\n",
    "        \n",
    "class Cat(Animal):     \n",
    "    def greet(self):\n",
    "        print ('喵喵! 我是{}'.format(self.name))"
   ]
  },
  {
   "cell_type": "code",
   "execution_count": 2,
   "metadata": {},
   "outputs": [],
   "source": [
    "def hello(animal):\n",
    "    animal.greet()"
   ]
  },
  {
   "cell_type": "code",
   "execution_count": 3,
   "metadata": {},
   "outputs": [
    {
     "name": "stdout",
     "output_type": "stream",
     "text": [
      "你好! 我是動物\n"
     ]
    }
   ],
   "source": [
    "animal = Animal('動物')\n",
    "hello(animal)"
   ]
  },
  {
   "cell_type": "code",
   "execution_count": 4,
   "metadata": {},
   "outputs": [
    {
     "name": "stdout",
     "output_type": "stream",
     "text": [
      "啾啾! 我是斑鳩\n"
     ]
    }
   ],
   "source": [
    "bird = Bird('斑鳩')\n",
    "hello(bird)"
   ]
  },
  {
   "cell_type": "code",
   "execution_count": 5,
   "metadata": {},
   "outputs": [
    {
     "name": "stdout",
     "output_type": "stream",
     "text": [
      "喵喵! 我是虎斑貓\n"
     ]
    }
   ],
   "source": [
    "cat = Cat('虎斑貓')\n",
    "hello(cat)"
   ]
  },
  {
   "cell_type": "code",
   "execution_count": 14,
   "metadata": {},
   "outputs": [],
   "source": [
    "def demo_greet(some):\n",
    "    some.greet()\n",
    "    "
   ]
  },
  {
   "cell_type": "code",
   "execution_count": 15,
   "metadata": {},
   "outputs": [
    {
     "name": "stdout",
     "output_type": "stream",
     "text": [
      "你好! 我是動物\n",
      "啾啾! 我是斑鳩\n",
      "喵喵! 我是虎斑貓\n"
     ]
    }
   ],
   "source": [
    "for i in [animal, bird, cat]:\n",
    "    demo_greet(i)"
   ]
  },
  {
   "cell_type": "code",
   "execution_count": 23,
   "metadata": {},
   "outputs": [],
   "source": [
    "class Animal:    \n",
    "    def __init__(self, name):\n",
    "        self.name = name    \n",
    "    def greet(self):\n",
    "        print ('你好! 我是{}'.format(self.name))\n",
    "        \n",
    "class Bird(Animal):    \n",
    "    def greet(self):\n",
    "        print ('啾啾! 我是{}'.format(self.name))\n",
    "        \n",
    "class Cat(Animal):     \n",
    "    def greet(self):\n",
    "        print ('喵喵! 我是{}'.format(self.name))\n",
    "\n",
    "class Dog(Animal):\n",
    "    def greet(self):\n",
    "        print('汪汪! 我是{}'.format(self.name))"
   ]
  },
  {
   "cell_type": "code",
   "execution_count": 25,
   "metadata": {},
   "outputs": [],
   "source": [
    "dog = Dog('貴賓狗')"
   ]
  },
  {
   "cell_type": "code",
   "execution_count": 26,
   "metadata": {},
   "outputs": [
    {
     "name": "stdout",
     "output_type": "stream",
     "text": [
      "你好! 我是動物\n",
      "啾啾! 我是斑鳩\n",
      "喵喵! 我是虎斑貓\n",
      "汪汪! 我是貴賓狗\n"
     ]
    }
   ],
   "source": [
    "for i in [animal, bird, cat, dog]:\n",
    "    demo_greet(i)"
   ]
  }
 ],
 "metadata": {
  "kernelspec": {
   "display_name": "Python 3",
   "language": "python",
   "name": "python3"
  },
  "language_info": {
   "codemirror_mode": {
    "name": "ipython",
    "version": 3
   },
   "file_extension": ".py",
   "mimetype": "text/x-python",
   "name": "python",
   "nbconvert_exporter": "python",
   "pygments_lexer": "ipython3",
   "version": "3.6.5"
  }
 },
 "nbformat": 4,
 "nbformat_minor": 2
}
