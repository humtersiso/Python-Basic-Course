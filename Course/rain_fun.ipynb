{
 "cells": [
  {
   "cell_type": "code",
   "execution_count": null,
   "metadata": {},
   "outputs": [],
   "source": [
    "def rain_type(rain_24,rain_3,rain_1):\n",
    "    if rain_24 >=500:\n",
    "            return('超大豪雨') \n",
    "    elif rain_24 >=350:\n",
    "            return('大豪雨')\n",
    "    elif rain_24>=200 or rain_3>=100:\n",
    "            return('豪雨')\n",
    "    elif rain_24>=80 or rain_1>=40:\n",
    "            return ('大雨')\n",
    "    else :\n",
    "            return ('無')"
   ]
  }
 ],
 "metadata": {
  "kernelspec": {
   "display_name": "Python 3",
   "language": "python",
   "name": "python3"
  },
  "language_info": {
   "codemirror_mode": {
    "name": "ipython",
    "version": 3
   },
   "file_extension": ".py",
   "mimetype": "text/x-python",
   "name": "python",
   "nbconvert_exporter": "python",
   "pygments_lexer": "ipython3",
   "version": "3.6.5"
  }
 },
 "nbformat": 4,
 "nbformat_minor": 2
}
