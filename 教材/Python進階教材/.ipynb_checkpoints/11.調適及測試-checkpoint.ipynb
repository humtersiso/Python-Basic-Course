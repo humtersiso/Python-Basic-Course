{
 "cells": [
  {
   "cell_type": "markdown",
   "metadata": {},
   "source": [
    "## 11. 調適與測試\n",
    "#### a. 文件的讀與寫\n",
    "* 文件的寫入\n",
    "* 文件的讀取\n",
    "\n",
    "#### b. 調適 (debug)\n",
    "* debug - print\n",
    "* debug - pdb package\n",
    "* debug - pyspooner package\n",
    "\n",
    "#### b. 測試 (test)\n",
    "* 文檔測試(doc test)\n",
    "* 單元測試(unit test)\n",
    "\n",
    "#### d. python的運行日誌\n",
    "* 日誌紀錄的等級\n",
    "* 日誌紀錄的格式"
   ]
  },
  {
   "cell_type": "markdown",
   "metadata": {},
   "source": [
    "****"
   ]
  },
  {
   "cell_type": "markdown",
   "metadata": {},
   "source": [
    "#### a. 文件的讀與寫"
   ]
  },
  {
   "cell_type": "markdown",
   "metadata": {},
   "source": [
    "* 文件的寫入"
   ]
  },
  {
   "cell_type": "markdown",
   "metadata": {},
   "source": [
    "'r' : open for reading (default) \n",
    "'w' : open for writing, truncating the file first\n",
    "'x' : create a new file and open it for writing\n",
    "'a' : open for writing, appending to the end of the file if it exists"
   ]
  },
  {
   "cell_type": "code",
   "execution_count": 76,
   "metadata": {},
   "outputs": [],
   "source": [
    "f = open('file_test.txt', mode ='x')"
   ]
  },
  {
   "cell_type": "code",
   "execution_count": 77,
   "metadata": {},
   "outputs": [
    {
     "data": {
      "text/plain": [
       "12"
      ]
     },
     "execution_count": 77,
     "metadata": {},
     "output_type": "execute_result"
    }
   ],
   "source": [
    "f.write('Introduction')"
   ]
  },
  {
   "cell_type": "code",
   "execution_count": 78,
   "metadata": {},
   "outputs": [],
   "source": [
    "f.close() #不關閉就不會保存"
   ]
  },
  {
   "cell_type": "code",
   "execution_count": 79,
   "metadata": {},
   "outputs": [],
   "source": [
    "f = open('file_test.txt', mode ='a')"
   ]
  },
  {
   "cell_type": "code",
   "execution_count": 80,
   "metadata": {},
   "outputs": [],
   "source": [
    "f.writelines(['\\nCH2:\\n', 'CH3:\\n', 'CH4\\n'])"
   ]
  },
  {
   "cell_type": "code",
   "execution_count": 81,
   "metadata": {},
   "outputs": [],
   "source": [
    "f.close() #不關閉就不會保存"
   ]
  },
  {
   "cell_type": "code",
   "execution_count": 88,
   "metadata": {},
   "outputs": [],
   "source": [
    "f = open('file_test.txt', mode ='w')\n",
    "f.writelines(['123'])"
   ]
  },
  {
   "cell_type": "code",
   "execution_count": 89,
   "metadata": {},
   "outputs": [],
   "source": [
    "f.close() #不關閉就不會保存"
   ]
  },
  {
   "cell_type": "code",
   "execution_count": 101,
   "metadata": {},
   "outputs": [],
   "source": [
    "f = open('file_test.txt', mode ='w' ,encoding ='utf8')\n",
    "f.write('寫中文\\n寫英文\\n寫德文\\n寫法文')\n",
    "\n",
    "f.close() #不關閉就不會保存"
   ]
  },
  {
   "cell_type": "markdown",
   "metadata": {},
   "source": [
    "* 文件的讀取"
   ]
  },
  {
   "cell_type": "code",
   "execution_count": 215,
   "metadata": {},
   "outputs": [],
   "source": [
    "f = open('file_test.txt', mode ='w')\n",
    "f.writelines(['CH1:\\n', 'CH2:\\n', 'CH3:\\n'])\n",
    "f.close() #不關閉就不會保存"
   ]
  },
  {
   "cell_type": "code",
   "execution_count": 216,
   "metadata": {},
   "outputs": [],
   "source": [
    "f = open('file_test.txt', mode ='r')"
   ]
  },
  {
   "cell_type": "code",
   "execution_count": 217,
   "metadata": {},
   "outputs": [
    {
     "data": {
      "text/plain": [
       "'CH1:\\nCH2:\\nCH3:\\n'"
      ]
     },
     "execution_count": 217,
     "metadata": {},
     "output_type": "execute_result"
    }
   ],
   "source": [
    "f.read()"
   ]
  },
  {
   "cell_type": "code",
   "execution_count": 218,
   "metadata": {},
   "outputs": [],
   "source": [
    "f.close()"
   ]
  },
  {
   "cell_type": "code",
   "execution_count": 219,
   "metadata": {},
   "outputs": [],
   "source": [
    "f = open('file_test.txt', mode ='r')"
   ]
  },
  {
   "cell_type": "code",
   "execution_count": 220,
   "metadata": {},
   "outputs": [
    {
     "name": "stdout",
     "output_type": "stream",
     "text": [
      "CH1:\n",
      "\n",
      "CH2:\n",
      "\n",
      "CH3:\n",
      "\n"
     ]
    }
   ],
   "source": [
    "for line in f:\n",
    "    print(line)"
   ]
  },
  {
   "cell_type": "code",
   "execution_count": 221,
   "metadata": {},
   "outputs": [],
   "source": [
    "f = open('file_test.txt', mode ='r')"
   ]
  },
  {
   "cell_type": "code",
   "execution_count": 222,
   "metadata": {},
   "outputs": [
    {
     "data": {
      "text/plain": [
       "'CH1:\\n'"
      ]
     },
     "execution_count": 222,
     "metadata": {},
     "output_type": "execute_result"
    }
   ],
   "source": [
    "f.readline() "
   ]
  },
  {
   "cell_type": "code",
   "execution_count": 223,
   "metadata": {},
   "outputs": [
    {
     "data": {
      "text/plain": [
       "['CH2:\\n', 'CH3:\\n']"
      ]
     },
     "execution_count": 223,
     "metadata": {},
     "output_type": "execute_result"
    }
   ],
   "source": [
    "f.readlines() "
   ]
  },
  {
   "cell_type": "code",
   "execution_count": 224,
   "metadata": {},
   "outputs": [
    {
     "data": {
      "text/plain": [
       "'CH1:\\n'"
      ]
     },
     "execution_count": 224,
     "metadata": {},
     "output_type": "execute_result"
    }
   ],
   "source": [
    "f = open('file_test.txt', mode ='r')\n",
    "f.readline() "
   ]
  },
  {
   "cell_type": "code",
   "execution_count": 225,
   "metadata": {},
   "outputs": [
    {
     "data": {
      "text/plain": [
       "['CH1:\\n', 'CH2:\\n', 'CH3:\\n']"
      ]
     },
     "execution_count": 225,
     "metadata": {},
     "output_type": "execute_result"
    }
   ],
   "source": [
    "f = open('file_test.txt', mode ='r')\n",
    "f.readlines() "
   ]
  },
  {
   "cell_type": "code",
   "execution_count": 226,
   "metadata": {},
   "outputs": [
    {
     "data": {
      "text/plain": [
       "[]"
      ]
     },
     "execution_count": 226,
     "metadata": {},
     "output_type": "execute_result"
    }
   ],
   "source": [
    "f.readlines() "
   ]
  },
  {
   "cell_type": "code",
   "execution_count": 227,
   "metadata": {},
   "outputs": [
    {
     "data": {
      "text/plain": [
       "0"
      ]
     },
     "execution_count": 227,
     "metadata": {},
     "output_type": "execute_result"
    }
   ],
   "source": [
    "f.seek(0)"
   ]
  },
  {
   "cell_type": "code",
   "execution_count": 228,
   "metadata": {},
   "outputs": [
    {
     "data": {
      "text/plain": [
       "'CH1:\\n'"
      ]
     },
     "execution_count": 228,
     "metadata": {},
     "output_type": "execute_result"
    }
   ],
   "source": [
    "f.readline()"
   ]
  },
  {
   "cell_type": "code",
   "execution_count": 1,
   "metadata": {},
   "outputs": [],
   "source": [
    "import os"
   ]
  },
  {
   "cell_type": "code",
   "execution_count": 230,
   "metadata": {},
   "outputs": [
    {
     "data": {
      "text/plain": [
       "'C:\\\\Users\\\\Jason Chiu\\\\Trans-iot 教育訓練\\\\教材\\\\Python進階教材'"
      ]
     },
     "execution_count": 230,
     "metadata": {},
     "output_type": "execute_result"
    }
   ],
   "source": [
    "os.getcwd()"
   ]
  },
  {
   "cell_type": "code",
   "execution_count": 232,
   "metadata": {},
   "outputs": [
    {
     "data": {
      "text/plain": [
       "['.ipynb_checkpoints',\n",
       " '1.jpg',\n",
       " '10.異常錯誤和處理.ipynb',\n",
       " '11.調適及測試.ipynb',\n",
       " '2.jpg',\n",
       " '3.jpg',\n",
       " '4.jpg',\n",
       " '5.jpg',\n",
       " '6.jpg',\n",
       " '7.類別.ipynb',\n",
       " '8.模組 & 套件.ipynb',\n",
       " '9.高階函數.ipynb',\n",
       " 'file_test.txt',\n",
       " 'logging_test.log',\n",
       " 'pysnooper_test.log',\n",
       " 'python_package']"
      ]
     },
     "execution_count": 232,
     "metadata": {},
     "output_type": "execute_result"
    }
   ],
   "source": [
    "os.listdir()"
   ]
  },
  {
   "cell_type": "code",
   "execution_count": 243,
   "metadata": {
    "scrolled": true
   },
   "outputs": [
    {
     "data": {
      "text/plain": [
       "['.ipynb_checkpoints',\n",
       " '1.jpg',\n",
       " '10.異常錯誤和處理.ipynb',\n",
       " '11.調適及測試.ipynb',\n",
       " '2.jpg',\n",
       " '3.jpg',\n",
       " '4.jpg',\n",
       " '5.jpg',\n",
       " '6.jpg',\n",
       " '7.類別.ipynb',\n",
       " '8.模組 & 套件.ipynb',\n",
       " '9.高階函數.ipynb',\n",
       " 'demo',\n",
       " 'file_test.txt',\n",
       " 'logging_test.log',\n",
       " 'pysnooper_test.log',\n",
       " 'python_package']"
      ]
     },
     "execution_count": 243,
     "metadata": {},
     "output_type": "execute_result"
    }
   ],
   "source": [
    "os.mkdir('demo') #建立資料夾"
   ]
  },
  {
   "cell_type": "code",
   "execution_count": 6,
   "metadata": {},
   "outputs": [
    {
     "data": {
      "text/plain": [
       "True"
      ]
     },
     "execution_count": 6,
     "metadata": {},
     "output_type": "execute_result"
    }
   ],
   "source": [
    "os.path.exists('test_case')"
   ]
  },
  {
   "cell_type": "code",
   "execution_count": 11,
   "metadata": {},
   "outputs": [
    {
     "data": {
      "text/plain": [
       "'test_case\\\\test1'"
      ]
     },
     "execution_count": 11,
     "metadata": {},
     "output_type": "execute_result"
    }
   ],
   "source": [
    "os.path.join('test_case' , 'test{}'.format(1))"
   ]
  },
  {
   "cell_type": "code",
   "execution_count": 20,
   "metadata": {},
   "outputs": [],
   "source": [
    "os.unlink('test_case\\\\test1.txt')"
   ]
  },
  {
   "cell_type": "markdown",
   "metadata": {},
   "source": [
    "step1 判斷當前目錄是否有`'test_case'`資料夾，如果沒有新建一個"
   ]
  },
  {
   "cell_type": "code",
   "execution_count": 35,
   "metadata": {},
   "outputs": [],
   "source": [
    "file='test_case'\n",
    "if not os.path.exists(file):\n",
    "    os.mkdir(file)"
   ]
  },
  {
   "cell_type": "markdown",
   "metadata": {},
   "source": [
    "step2 在`test_case`資料夾下建立10個`test文件`"
   ]
  },
  {
   "cell_type": "code",
   "execution_count": 36,
   "metadata": {},
   "outputs": [],
   "source": [
    "for i in range(1,11):\n",
    "    try:\n",
    "        f = open('{}/test{}.txt'.format(file,i), mode ='w')\n",
    "        f.writelines(['Test Case {}'.format(i)])\n",
    "    except:\n",
    "            pass\n",
    "    finally:\n",
    "        f.close()"
   ]
  },
  {
   "cell_type": "markdown",
   "metadata": {},
   "source": [
    "step3 將10個test文件從`test_case`下刪除"
   ]
  },
  {
   "cell_type": "code",
   "execution_count": 37,
   "metadata": {},
   "outputs": [
    {
     "name": "stdout",
     "output_type": "stream",
     "text": [
      "test_case\\test1.txt\n",
      "test_case\\test10.txt\n",
      "test_case\\test2.txt\n",
      "test_case\\test3.txt\n",
      "test_case\\test4.txt\n",
      "test_case\\test5.txt\n",
      "test_case\\test6.txt\n",
      "test_case\\test7.txt\n",
      "test_case\\test8.txt\n",
      "test_case\\test9.txt\n"
     ]
    }
   ],
   "source": [
    " for file_item in os.listdir(file):\n",
    "        file_path = os.path.join(file, file_item)\n",
    "        print(file_path)\n",
    "        try:\n",
    "            if os.path.isfile(file_path):\n",
    "                os.unlink(file_path)\n",
    "        except Exception as e:\n",
    "            print(e)  "
   ]
  },
  {
   "cell_type": "code",
   "execution_count": 38,
   "metadata": {
    "scrolled": true
   },
   "outputs": [
    {
     "data": {
      "text/plain": [
       "['DirEntry',\n",
       " 'F_OK',\n",
       " 'MutableMapping',\n",
       " 'O_APPEND',\n",
       " 'O_BINARY',\n",
       " 'O_CREAT',\n",
       " 'O_EXCL',\n",
       " 'O_NOINHERIT',\n",
       " 'O_RANDOM',\n",
       " 'O_RDONLY',\n",
       " 'O_RDWR',\n",
       " 'O_SEQUENTIAL',\n",
       " 'O_SHORT_LIVED',\n",
       " 'O_TEMPORARY',\n",
       " 'O_TEXT',\n",
       " 'O_TRUNC',\n",
       " 'O_WRONLY',\n",
       " 'P_DETACH',\n",
       " 'P_NOWAIT',\n",
       " 'P_NOWAITO',\n",
       " 'P_OVERLAY',\n",
       " 'P_WAIT',\n",
       " 'PathLike',\n",
       " 'R_OK',\n",
       " 'SEEK_CUR',\n",
       " 'SEEK_END',\n",
       " 'SEEK_SET',\n",
       " 'TMP_MAX',\n",
       " 'W_OK',\n",
       " 'X_OK',\n",
       " '_Environ',\n",
       " '__all__',\n",
       " '__builtins__',\n",
       " '__cached__',\n",
       " '__doc__',\n",
       " '__file__',\n",
       " '__loader__',\n",
       " '__name__',\n",
       " '__package__',\n",
       " '__spec__',\n",
       " '_execvpe',\n",
       " '_exists',\n",
       " '_exit',\n",
       " '_fspath',\n",
       " '_get_exports_list',\n",
       " '_putenv',\n",
       " '_unsetenv',\n",
       " '_wrap_close',\n",
       " 'abc',\n",
       " 'abort',\n",
       " 'access',\n",
       " 'altsep',\n",
       " 'chdir',\n",
       " 'chmod',\n",
       " 'close',\n",
       " 'closerange',\n",
       " 'cpu_count',\n",
       " 'curdir',\n",
       " 'defpath',\n",
       " 'device_encoding',\n",
       " 'devnull',\n",
       " 'dup',\n",
       " 'dup2',\n",
       " 'environ',\n",
       " 'errno',\n",
       " 'error',\n",
       " 'execl',\n",
       " 'execle',\n",
       " 'execlp',\n",
       " 'execlpe',\n",
       " 'execv',\n",
       " 'execve',\n",
       " 'execvp',\n",
       " 'execvpe',\n",
       " 'extsep',\n",
       " 'fdopen',\n",
       " 'fsdecode',\n",
       " 'fsencode',\n",
       " 'fspath',\n",
       " 'fstat',\n",
       " 'fsync',\n",
       " 'ftruncate',\n",
       " 'get_exec_path',\n",
       " 'get_handle_inheritable',\n",
       " 'get_inheritable',\n",
       " 'get_terminal_size',\n",
       " 'getcwd',\n",
       " 'getcwdb',\n",
       " 'getenv',\n",
       " 'getlogin',\n",
       " 'getpid',\n",
       " 'getppid',\n",
       " 'isatty',\n",
       " 'kill',\n",
       " 'linesep',\n",
       " 'link',\n",
       " 'listdir',\n",
       " 'lseek',\n",
       " 'lstat',\n",
       " 'makedirs',\n",
       " 'mkdir',\n",
       " 'name',\n",
       " 'open',\n",
       " 'pardir',\n",
       " 'path',\n",
       " 'pathsep',\n",
       " 'pipe',\n",
       " 'popen',\n",
       " 'putenv',\n",
       " 'read',\n",
       " 'readlink',\n",
       " 'remove',\n",
       " 'removedirs',\n",
       " 'rename',\n",
       " 'renames',\n",
       " 'replace',\n",
       " 'rmdir',\n",
       " 'scandir',\n",
       " 'sep',\n",
       " 'set_handle_inheritable',\n",
       " 'set_inheritable',\n",
       " 'spawnl',\n",
       " 'spawnle',\n",
       " 'spawnv',\n",
       " 'spawnve',\n",
       " 'st',\n",
       " 'startfile',\n",
       " 'stat',\n",
       " 'stat_float_times',\n",
       " 'stat_result',\n",
       " 'statvfs_result',\n",
       " 'strerror',\n",
       " 'supports_bytes_environ',\n",
       " 'supports_dir_fd',\n",
       " 'supports_effective_ids',\n",
       " 'supports_fd',\n",
       " 'supports_follow_symlinks',\n",
       " 'symlink',\n",
       " 'sys',\n",
       " 'system',\n",
       " 'terminal_size',\n",
       " 'times',\n",
       " 'times_result',\n",
       " 'truncate',\n",
       " 'umask',\n",
       " 'uname_result',\n",
       " 'unlink',\n",
       " 'urandom',\n",
       " 'utime',\n",
       " 'waitpid',\n",
       " 'walk',\n",
       " 'write']"
      ]
     },
     "execution_count": 38,
     "metadata": {},
     "output_type": "execute_result"
    }
   ],
   "source": [
    "dir(os)"
   ]
  },
  {
   "cell_type": "code",
   "execution_count": 41,
   "metadata": {},
   "outputs": [
    {
     "name": "stdout",
     "output_type": "stream",
     "text": [
      "Help on built-in function remove in module nt:\n",
      "\n",
      "remove(path, *, dir_fd=None)\n",
      "    Remove a file (same as unlink()).\n",
      "    \n",
      "    If dir_fd is not None, it should be a file descriptor open to a directory,\n",
      "      and path should be relative; path will then be relative to that directory.\n",
      "    dir_fd may not be implemented on your platform.\n",
      "      If it is unavailable, using it will raise a NotImplementedError.\n",
      "\n"
     ]
    }
   ],
   "source": [
    "help(os.remove)"
   ]
  },
  {
   "cell_type": "markdown",
   "metadata": {},
   "source": [
    "#### b. 調適"
   ]
  },
  {
   "cell_type": "markdown",
   "metadata": {},
   "source": [
    "* debug - print"
   ]
  },
  {
   "cell_type": "code",
   "execution_count": 31,
   "metadata": {},
   "outputs": [
    {
     "name": "stdout",
     "output_type": "stream",
     "text": [
      "item: 12\n",
      "more than4 item: 12\n"
     ]
    },
    {
     "ename": "TypeError",
     "evalue": "'int' object is not iterable",
     "output_type": "error",
     "traceback": [
      "\u001b[1;31m---------------------------------------------------------------------------\u001b[0m",
      "\u001b[1;31mTypeError\u001b[0m                                 Traceback (most recent call last)",
      "\u001b[1;32m<ipython-input-31-57f1150d5eca>\u001b[0m in \u001b[0;36m<module>\u001b[1;34m()\u001b[0m\n\u001b[0;32m     11\u001b[0m     \u001b[1;32mreturn\u001b[0m \u001b[0mlist2\u001b[0m\u001b[1;33m\u001b[0m\u001b[0m\n\u001b[0;32m     12\u001b[0m \u001b[1;33m\u001b[0m\u001b[0m\n\u001b[1;32m---> 13\u001b[1;33m \u001b[0mmore_than4\u001b[0m\u001b[1;33m(\u001b[0m\u001b[0mlist_test\u001b[0m\u001b[1;33m)\u001b[0m\u001b[1;33m\u001b[0m\u001b[0m\n\u001b[0m",
      "\u001b[1;32m<ipython-input-31-57f1150d5eca>\u001b[0m in \u001b[0;36mmore_than4\u001b[1;34m(list1)\u001b[0m\n\u001b[0;32m      7\u001b[0m         \u001b[1;32mif\u001b[0m \u001b[0mi\u001b[0m \u001b[1;33m>\u001b[0m\u001b[1;36m10\u001b[0m\u001b[1;33m:\u001b[0m\u001b[1;33m\u001b[0m\u001b[0m\n\u001b[0;32m      8\u001b[0m             \u001b[0mprint\u001b[0m\u001b[1;33m(\u001b[0m\u001b[1;34m'more than4 item:'\u001b[0m\u001b[1;33m,\u001b[0m\u001b[0mi\u001b[0m\u001b[1;33m)\u001b[0m\u001b[1;33m\u001b[0m\u001b[0m\n\u001b[1;32m----> 9\u001b[1;33m             \u001b[0mlist2\u001b[0m\u001b[1;33m.\u001b[0m\u001b[0mextend\u001b[0m\u001b[1;33m(\u001b[0m\u001b[0mi\u001b[0m\u001b[1;33m)\u001b[0m\u001b[1;33m\u001b[0m\u001b[0m\n\u001b[0m\u001b[0;32m     10\u001b[0m             \u001b[0mprint\u001b[0m\u001b[1;33m(\u001b[0m\u001b[0mlist2\u001b[0m\u001b[1;33m)\u001b[0m\u001b[1;33m\u001b[0m\u001b[0m\n\u001b[0;32m     11\u001b[0m     \u001b[1;32mreturn\u001b[0m \u001b[0mlist2\u001b[0m\u001b[1;33m\u001b[0m\u001b[0m\n",
      "\u001b[1;31mTypeError\u001b[0m: 'int' object is not iterable"
     ]
    }
   ],
   "source": [
    "list_test = [12, 3, 4, 46, 99, 123, 3, 5, 9]\n",
    "\n",
    "def more_than4(list1):\n",
    "    list2 = []\n",
    "    for i in list1:\n",
    "        print('item:',i)\n",
    "        if i >10:\n",
    "            print('more than4 item:',i)\n",
    "            list2.extend(i)\n",
    "            print(list2)\n",
    "    return list2\n",
    "\n",
    "more_than4(list_test)"
   ]
  },
  {
   "cell_type": "markdown",
   "metadata": {},
   "source": [
    "* debug - pdb package"
   ]
  },
  {
   "cell_type": "code",
   "execution_count": 2,
   "metadata": {},
   "outputs": [
    {
     "ename": "TypeError",
     "evalue": "'int' object is not iterable",
     "output_type": "error",
     "traceback": [
      "\u001b[1;31m---------------------------------------------------------------------------\u001b[0m",
      "\u001b[1;31mTypeError\u001b[0m                                 Traceback (most recent call last)",
      "\u001b[1;32m<ipython-input-2-60556836ba95>\u001b[0m in \u001b[0;36m<module>\u001b[1;34m()\u001b[0m\n\u001b[0;32m      8\u001b[0m     \u001b[1;32mreturn\u001b[0m \u001b[0mlist2\u001b[0m\u001b[1;33m\u001b[0m\u001b[0m\n\u001b[0;32m      9\u001b[0m \u001b[1;33m\u001b[0m\u001b[0m\n\u001b[1;32m---> 10\u001b[1;33m \u001b[0mmore_than4\u001b[0m\u001b[1;33m(\u001b[0m\u001b[0mlist_test\u001b[0m\u001b[1;33m)\u001b[0m\u001b[1;33m\u001b[0m\u001b[0m\n\u001b[0m",
      "\u001b[1;32m<ipython-input-2-60556836ba95>\u001b[0m in \u001b[0;36mmore_than4\u001b[1;34m(list1)\u001b[0m\n\u001b[0;32m      5\u001b[0m     \u001b[1;32mfor\u001b[0m \u001b[0mi\u001b[0m \u001b[1;32min\u001b[0m \u001b[0mlist1\u001b[0m\u001b[1;33m:\u001b[0m\u001b[1;33m\u001b[0m\u001b[0m\n\u001b[0;32m      6\u001b[0m         \u001b[1;32mif\u001b[0m \u001b[0mi\u001b[0m \u001b[1;33m>\u001b[0m\u001b[1;36m10\u001b[0m\u001b[1;33m:\u001b[0m\u001b[1;33m\u001b[0m\u001b[0m\n\u001b[1;32m----> 7\u001b[1;33m             \u001b[0mlist2\u001b[0m\u001b[1;33m.\u001b[0m\u001b[0mextend\u001b[0m\u001b[1;33m(\u001b[0m\u001b[0mi\u001b[0m\u001b[1;33m)\u001b[0m\u001b[1;33m\u001b[0m\u001b[0m\n\u001b[0m\u001b[0;32m      8\u001b[0m     \u001b[1;32mreturn\u001b[0m \u001b[0mlist2\u001b[0m\u001b[1;33m\u001b[0m\u001b[0m\n\u001b[0;32m      9\u001b[0m \u001b[1;33m\u001b[0m\u001b[0m\n",
      "\u001b[1;31mTypeError\u001b[0m: 'int' object is not iterable"
     ]
    }
   ],
   "source": [
    "list_test = [12, 3, 4, 46, 99, 123, 3, 5, 9]\n",
    "\n",
    "def more_than4(list1):\n",
    "    list2 = []\n",
    "    for i in list1:\n",
    "        if i >10:\n",
    "            list2.extend(i)\n",
    "    return list2\n",
    "\n",
    "more_than4(list_test)"
   ]
  },
  {
   "cell_type": "code",
   "execution_count": 1,
   "metadata": {},
   "outputs": [],
   "source": [
    "import pdb #專門用於測試"
   ]
  },
  {
   "cell_type": "code",
   "execution_count": 2,
   "metadata": {
    "scrolled": false
   },
   "outputs": [
    {
     "name": "stdout",
     "output_type": "stream",
     "text": [
      "> <ipython-input-2-0b12538b0e3c>(6)more_than4()\n",
      "-> for i in list1:\n",
      "(Pdb) ?\n",
      "\n",
      "Documented commands (type help <topic>):\n",
      "========================================\n",
      "EOF    c          d        h         list      q        rv       undisplay\n",
      "a      cl         debug    help      ll        quit     s        unt      \n",
      "alias  clear      disable  ignore    longlist  r        source   until    \n",
      "args   commands   display  interact  n         restart  step     up       \n",
      "b      condition  down     j         next      return   tbreak   w        \n",
      "break  cont       enable   jump      p         retval   u        whatis   \n",
      "bt     continue   exit     l         pp        run      unalias  where    \n",
      "\n",
      "Miscellaneous help topics:\n",
      "==========================\n",
      "exec  pdb\n",
      "\n",
      "(Pdb) l\n",
      "  1  \tlist_test = [12, 3, 4, 46, 99, 123, 3, 5, 9]\n",
      "  2  \t\n",
      "  3  \tdef more_than4(list1):\n",
      "  4  \t    list2 = []\n",
      "  5  \t    pdb.set_trace()\n",
      "  6  ->\t    for i in list1:\n",
      "  7  \t        if i >10:\n",
      "  8  \t            list2.extend(i)\n",
      "  9  \t    return list2\n",
      " 10  \t\n",
      " 11  \tmore_than4(list_test)\n",
      "(Pdb) s\n",
      "> <ipython-input-2-0b12538b0e3c>(7)more_than4()\n",
      "-> if i >10:\n",
      "(Pdb) s\n",
      "> <ipython-input-2-0b12538b0e3c>(8)more_than4()\n",
      "-> list2.extend(i)\n",
      "(Pdb) s\n",
      "TypeError: 'int' object is not iterable\n",
      "> <ipython-input-2-0b12538b0e3c>(8)more_than4()\n",
      "-> list2.extend(i)\n",
      "(Pdb) s\n",
      "--Return--\n",
      "> <ipython-input-2-0b12538b0e3c>(8)more_than4()->None\n",
      "-> list2.extend(i)\n",
      "(Pdb) s\n",
      "TypeError: 'int' object is not iterable\n",
      "> <ipython-input-2-0b12538b0e3c>(11)<module>()\n",
      "-> more_than4(list_test)\n",
      "(Pdb) q\n"
     ]
    },
    {
     "ename": "BdbQuit",
     "evalue": "",
     "output_type": "error",
     "traceback": [
      "\u001b[1;31m---------------------------------------------------------------------------\u001b[0m",
      "\u001b[1;31mBdbQuit\u001b[0m                                   Traceback (most recent call last)",
      "\u001b[1;32m<ipython-input-2-0b12538b0e3c>\u001b[0m in \u001b[0;36m<module>\u001b[1;34m()\u001b[0m\n\u001b[0;32m      9\u001b[0m     \u001b[1;32mreturn\u001b[0m \u001b[0mlist2\u001b[0m\u001b[1;33m\u001b[0m\u001b[0m\n\u001b[0;32m     10\u001b[0m \u001b[1;33m\u001b[0m\u001b[0m\n\u001b[1;32m---> 11\u001b[1;33m \u001b[0mmore_than4\u001b[0m\u001b[1;33m(\u001b[0m\u001b[0mlist_test\u001b[0m\u001b[1;33m)\u001b[0m\u001b[1;33m\u001b[0m\u001b[0m\n\u001b[0m",
      "\u001b[1;32mD:\\Python\\lib\\bdb.py\u001b[0m in \u001b[0;36mtrace_dispatch\u001b[1;34m(self, frame, event, arg)\u001b[0m\n\u001b[0;32m     55\u001b[0m             \u001b[1;32mreturn\u001b[0m \u001b[0mself\u001b[0m\u001b[1;33m.\u001b[0m\u001b[0mdispatch_return\u001b[0m\u001b[1;33m(\u001b[0m\u001b[0mframe\u001b[0m\u001b[1;33m,\u001b[0m \u001b[0marg\u001b[0m\u001b[1;33m)\u001b[0m\u001b[1;33m\u001b[0m\u001b[0m\n\u001b[0;32m     56\u001b[0m         \u001b[1;32mif\u001b[0m \u001b[0mevent\u001b[0m \u001b[1;33m==\u001b[0m \u001b[1;34m'exception'\u001b[0m\u001b[1;33m:\u001b[0m\u001b[1;33m\u001b[0m\u001b[0m\n\u001b[1;32m---> 57\u001b[1;33m             \u001b[1;32mreturn\u001b[0m \u001b[0mself\u001b[0m\u001b[1;33m.\u001b[0m\u001b[0mdispatch_exception\u001b[0m\u001b[1;33m(\u001b[0m\u001b[0mframe\u001b[0m\u001b[1;33m,\u001b[0m \u001b[0marg\u001b[0m\u001b[1;33m)\u001b[0m\u001b[1;33m\u001b[0m\u001b[0m\n\u001b[0m\u001b[0;32m     58\u001b[0m         \u001b[1;32mif\u001b[0m \u001b[0mevent\u001b[0m \u001b[1;33m==\u001b[0m \u001b[1;34m'c_call'\u001b[0m\u001b[1;33m:\u001b[0m\u001b[1;33m\u001b[0m\u001b[0m\n\u001b[0;32m     59\u001b[0m             \u001b[1;32mreturn\u001b[0m \u001b[0mself\u001b[0m\u001b[1;33m.\u001b[0m\u001b[0mtrace_dispatch\u001b[0m\u001b[1;33m\u001b[0m\u001b[0m\n",
      "\u001b[1;32mD:\\Python\\lib\\bdb.py\u001b[0m in \u001b[0;36mdispatch_exception\u001b[1;34m(self, frame, arg)\u001b[0m\n\u001b[0;32m    111\u001b[0m                     and arg[0] is StopIteration and arg[2] is None):\n\u001b[0;32m    112\u001b[0m                 \u001b[0mself\u001b[0m\u001b[1;33m.\u001b[0m\u001b[0muser_exception\u001b[0m\u001b[1;33m(\u001b[0m\u001b[0mframe\u001b[0m\u001b[1;33m,\u001b[0m \u001b[0marg\u001b[0m\u001b[1;33m)\u001b[0m\u001b[1;33m\u001b[0m\u001b[0m\n\u001b[1;32m--> 113\u001b[1;33m                 \u001b[1;32mif\u001b[0m \u001b[0mself\u001b[0m\u001b[1;33m.\u001b[0m\u001b[0mquitting\u001b[0m\u001b[1;33m:\u001b[0m \u001b[1;32mraise\u001b[0m \u001b[0mBdbQuit\u001b[0m\u001b[1;33m\u001b[0m\u001b[0m\n\u001b[0m\u001b[0;32m    114\u001b[0m         \u001b[1;31m# Stop at the StopIteration or GeneratorExit exception when the user\u001b[0m\u001b[1;33m\u001b[0m\u001b[1;33m\u001b[0m\u001b[0m\n\u001b[0;32m    115\u001b[0m         \u001b[1;31m# has set stopframe in a generator by issuing a return command, or a\u001b[0m\u001b[1;33m\u001b[0m\u001b[1;33m\u001b[0m\u001b[0m\n",
      "\u001b[1;31mBdbQuit\u001b[0m: "
     ]
    }
   ],
   "source": [
    "list_test = [12, 3, 4, 46, 99, 123, 3, 5, 9]\n",
    "\n",
    "def more_than4(list1):\n",
    "    list2 = []\n",
    "    pdb.set_trace()\n",
    "    for i in list1:\n",
    "        if i >10:\n",
    "            list2.extend(i)\n",
    "    return list2\n",
    "\n",
    "more_than4(list_test)"
   ]
  },
  {
   "cell_type": "code",
   "execution_count": 50,
   "metadata": {},
   "outputs": [],
   "source": [
    "import pdb #專門用於測試"
   ]
  },
  {
   "cell_type": "code",
   "execution_count": 51,
   "metadata": {},
   "outputs": [
    {
     "name": "stdout",
     "output_type": "stream",
     "text": [
      "> <ipython-input-51-0b12538b0e3c>(6)more_than4()\n",
      "-> for i in list1:\n",
      "(Pdb) n\n",
      "> <ipython-input-51-0b12538b0e3c>(7)more_than4()\n",
      "-> if i >10:\n",
      "(Pdb) n\n",
      "> <ipython-input-51-0b12538b0e3c>(8)more_than4()\n",
      "-> list2.extend(i)\n",
      "(Pdb) n\n",
      "TypeError: 'int' object is not iterable\n",
      "> <ipython-input-51-0b12538b0e3c>(8)more_than4()\n",
      "-> list2.extend(i)\n",
      "(Pdb) n\n",
      "--Return--\n",
      "> <ipython-input-51-0b12538b0e3c>(8)more_than4()->None\n",
      "-> list2.extend(i)\n",
      "(Pdb) q\n"
     ]
    },
    {
     "ename": "BdbQuit",
     "evalue": "",
     "output_type": "error",
     "traceback": [
      "\u001b[1;31m---------------------------------------------------------------------------\u001b[0m",
      "\u001b[1;31mBdbQuit\u001b[0m                                   Traceback (most recent call last)",
      "\u001b[1;32m<ipython-input-51-0b12538b0e3c>\u001b[0m in \u001b[0;36m<module>\u001b[1;34m()\u001b[0m\n\u001b[0;32m      9\u001b[0m     \u001b[1;32mreturn\u001b[0m \u001b[0mlist2\u001b[0m\u001b[1;33m\u001b[0m\u001b[0m\n\u001b[0;32m     10\u001b[0m \u001b[1;33m\u001b[0m\u001b[0m\n\u001b[1;32m---> 11\u001b[1;33m \u001b[0mmore_than4\u001b[0m\u001b[1;33m(\u001b[0m\u001b[0mlist_test\u001b[0m\u001b[1;33m)\u001b[0m\u001b[1;33m\u001b[0m\u001b[0m\n\u001b[0m",
      "\u001b[1;32m<ipython-input-51-0b12538b0e3c>\u001b[0m in \u001b[0;36mmore_than4\u001b[1;34m(list1)\u001b[0m\n\u001b[0;32m      6\u001b[0m     \u001b[1;32mfor\u001b[0m \u001b[0mi\u001b[0m \u001b[1;32min\u001b[0m \u001b[0mlist1\u001b[0m\u001b[1;33m:\u001b[0m\u001b[1;33m\u001b[0m\u001b[0m\n\u001b[0;32m      7\u001b[0m         \u001b[1;32mif\u001b[0m \u001b[0mi\u001b[0m \u001b[1;33m>\u001b[0m\u001b[1;36m10\u001b[0m\u001b[1;33m:\u001b[0m\u001b[1;33m\u001b[0m\u001b[0m\n\u001b[1;32m----> 8\u001b[1;33m             \u001b[0mlist2\u001b[0m\u001b[1;33m.\u001b[0m\u001b[0mextend\u001b[0m\u001b[1;33m(\u001b[0m\u001b[0mi\u001b[0m\u001b[1;33m)\u001b[0m\u001b[1;33m\u001b[0m\u001b[0m\n\u001b[0m\u001b[0;32m      9\u001b[0m     \u001b[1;32mreturn\u001b[0m \u001b[0mlist2\u001b[0m\u001b[1;33m\u001b[0m\u001b[0m\n\u001b[0;32m     10\u001b[0m \u001b[1;33m\u001b[0m\u001b[0m\n",
      "\u001b[1;32mD:\\Python\\lib\\bdb.py\u001b[0m in \u001b[0;36mtrace_dispatch\u001b[1;34m(self, frame, event, arg)\u001b[0m\n\u001b[0;32m     53\u001b[0m             \u001b[1;32mreturn\u001b[0m \u001b[0mself\u001b[0m\u001b[1;33m.\u001b[0m\u001b[0mdispatch_call\u001b[0m\u001b[1;33m(\u001b[0m\u001b[0mframe\u001b[0m\u001b[1;33m,\u001b[0m \u001b[0marg\u001b[0m\u001b[1;33m)\u001b[0m\u001b[1;33m\u001b[0m\u001b[0m\n\u001b[0;32m     54\u001b[0m         \u001b[1;32mif\u001b[0m \u001b[0mevent\u001b[0m \u001b[1;33m==\u001b[0m \u001b[1;34m'return'\u001b[0m\u001b[1;33m:\u001b[0m\u001b[1;33m\u001b[0m\u001b[0m\n\u001b[1;32m---> 55\u001b[1;33m             \u001b[1;32mreturn\u001b[0m \u001b[0mself\u001b[0m\u001b[1;33m.\u001b[0m\u001b[0mdispatch_return\u001b[0m\u001b[1;33m(\u001b[0m\u001b[0mframe\u001b[0m\u001b[1;33m,\u001b[0m \u001b[0marg\u001b[0m\u001b[1;33m)\u001b[0m\u001b[1;33m\u001b[0m\u001b[0m\n\u001b[0m\u001b[0;32m     56\u001b[0m         \u001b[1;32mif\u001b[0m \u001b[0mevent\u001b[0m \u001b[1;33m==\u001b[0m \u001b[1;34m'exception'\u001b[0m\u001b[1;33m:\u001b[0m\u001b[1;33m\u001b[0m\u001b[0m\n\u001b[0;32m     57\u001b[0m             \u001b[1;32mreturn\u001b[0m \u001b[0mself\u001b[0m\u001b[1;33m.\u001b[0m\u001b[0mdispatch_exception\u001b[0m\u001b[1;33m(\u001b[0m\u001b[0mframe\u001b[0m\u001b[1;33m,\u001b[0m \u001b[0marg\u001b[0m\u001b[1;33m)\u001b[0m\u001b[1;33m\u001b[0m\u001b[0m\n",
      "\u001b[1;32mD:\\Python\\lib\\bdb.py\u001b[0m in \u001b[0;36mdispatch_return\u001b[1;34m(self, frame, arg)\u001b[0m\n\u001b[0;32m     97\u001b[0m             \u001b[1;32mfinally\u001b[0m\u001b[1;33m:\u001b[0m\u001b[1;33m\u001b[0m\u001b[0m\n\u001b[0;32m     98\u001b[0m                 \u001b[0mself\u001b[0m\u001b[1;33m.\u001b[0m\u001b[0mframe_returning\u001b[0m \u001b[1;33m=\u001b[0m \u001b[1;32mNone\u001b[0m\u001b[1;33m\u001b[0m\u001b[0m\n\u001b[1;32m---> 99\u001b[1;33m             \u001b[1;32mif\u001b[0m \u001b[0mself\u001b[0m\u001b[1;33m.\u001b[0m\u001b[0mquitting\u001b[0m\u001b[1;33m:\u001b[0m \u001b[1;32mraise\u001b[0m \u001b[0mBdbQuit\u001b[0m\u001b[1;33m\u001b[0m\u001b[0m\n\u001b[0m\u001b[0;32m    100\u001b[0m             \u001b[1;31m# The user issued a 'next' or 'until' command.\u001b[0m\u001b[1;33m\u001b[0m\u001b[1;33m\u001b[0m\u001b[0m\n\u001b[0;32m    101\u001b[0m             \u001b[1;32mif\u001b[0m \u001b[0mself\u001b[0m\u001b[1;33m.\u001b[0m\u001b[0mstopframe\u001b[0m \u001b[1;32mis\u001b[0m \u001b[0mframe\u001b[0m \u001b[1;32mand\u001b[0m \u001b[0mself\u001b[0m\u001b[1;33m.\u001b[0m\u001b[0mstoplineno\u001b[0m \u001b[1;33m!=\u001b[0m \u001b[1;33m-\u001b[0m\u001b[1;36m1\u001b[0m\u001b[1;33m:\u001b[0m\u001b[1;33m\u001b[0m\u001b[0m\n",
      "\u001b[1;31mBdbQuit\u001b[0m: "
     ]
    }
   ],
   "source": [
    "list_test = [12, 3, 4, 46, 99, 123, 3, 5, 9]\n",
    "\n",
    "def more_than10(list1):\n",
    "    list2 = []\n",
    "    pdb.set_trace()\n",
    "    for i in list1:\n",
    "        if i >10:\n",
    "            list2.extend(i)\n",
    "    return list2\n",
    "\n",
    "more_than4(list_test)"
   ]
  },
  {
   "cell_type": "code",
   "execution_count": 14,
   "metadata": {},
   "outputs": [
    {
     "data": {
      "text/plain": [
       "[12, 46, 99, 123]"
      ]
     },
     "execution_count": 14,
     "metadata": {},
     "output_type": "execute_result"
    }
   ],
   "source": [
    "list_test = [12, 3, 4, 46, 99, 123, 3, 5, 9]\n",
    "\n",
    "def more_than4(list1):\n",
    "    list2 = []\n",
    "    for i in list1:\n",
    "        if i >10:\n",
    "            list2.append(i)\n",
    "    return list2\n",
    "\n",
    "more_than4(list_test)"
   ]
  },
  {
   "cell_type": "markdown",
   "metadata": {},
   "source": [
    "* debug - pyspooner package(強力推薦)\n",
    " * 套件使用說明:https://github.com/cool-RR/PySnooper"
   ]
  },
  {
   "cell_type": "code",
   "execution_count": 1,
   "metadata": {},
   "outputs": [
    {
     "name": "stdout",
     "output_type": "stream",
     "text": [
      "Collecting pysnooper\n",
      "  Downloading https://files.pythonhosted.org/packages/c3/d3/af3c46f5936d165bbf1c6925da09806cc72f007951e5e0c9cf9a935f2b5f/PySnooper-0.2.2-py2.py3-none-any.whl\n",
      "Installing collected packages: pysnooper\n",
      "Successfully installed pysnooper-0.2.2\n"
     ]
    }
   ],
   "source": [
    "!pip install pysnooper"
   ]
  },
  {
   "cell_type": "code",
   "execution_count": 2,
   "metadata": {},
   "outputs": [],
   "source": [
    "import pysnooper"
   ]
  },
  {
   "cell_type": "code",
   "execution_count": 3,
   "metadata": {},
   "outputs": [],
   "source": [
    "list_test = [12, 3, 4, 46, 99, 123, 3, 5, 9]\n",
    "\n",
    "@pysnooper.snoop()\n",
    "def more_than4(list1):\n",
    "    list2 = []\n",
    "    for i in list1:\n",
    "        if i >10:\n",
    "            list2.append(i)\n",
    "    return list2"
   ]
  },
  {
   "cell_type": "code",
   "execution_count": 4,
   "metadata": {},
   "outputs": [
    {
     "name": "stderr",
     "output_type": "stream",
     "text": [
      "Starting var:.. list1 = [12, 3, 4, 46, 99, 123, 3, 5, 9]\n",
      "16:27:30.621181 call         4 def more_than4(list1):\n",
      "16:27:30.621678 line         5     list2 = []\n",
      "New var:....... list2 = []\n",
      "16:27:30.622172 line         6     for i in list1:\n",
      "New var:....... i = 12\n",
      "16:27:30.622172 line         7         if i >10:\n",
      "16:27:30.622172 line         8             list2.append(i)\n",
      "Modified var:.. list2 = [12]\n",
      "16:27:30.622172 line         6     for i in list1:\n",
      "Modified var:.. i = 3\n",
      "16:27:30.622669 line         7         if i >10:\n",
      "16:27:30.622669 line         6     for i in list1:\n",
      "Modified var:.. i = 4\n",
      "16:27:30.622669 line         7         if i >10:\n",
      "16:27:30.622669 line         6     for i in list1:\n",
      "Modified var:.. i = 46\n",
      "16:27:30.622669 line         7         if i >10:\n",
      "16:27:30.623165 line         8             list2.append(i)\n",
      "Modified var:.. list2 = [12, 46]\n",
      "16:27:30.623165 line         6     for i in list1:\n",
      "Modified var:.. i = 99\n",
      "16:27:30.623165 line         7         if i >10:\n",
      "16:27:30.623165 line         8             list2.append(i)\n",
      "Modified var:.. list2 = [12, 46, 99]\n",
      "16:27:30.623165 line         6     for i in list1:\n",
      "Modified var:.. i = 123\n",
      "16:27:30.623661 line         7         if i >10:\n",
      "16:27:30.623661 line         8             list2.append(i)\n",
      "Modified var:.. list2 = [12, 46, 99, 123]\n",
      "16:27:30.623661 line         6     for i in list1:\n",
      "Modified var:.. i = 3\n",
      "16:27:30.623661 line         7         if i >10:\n",
      "16:27:30.624156 line         6     for i in list1:\n",
      "Modified var:.. i = 5\n",
      "16:27:30.624156 line         7         if i >10:\n",
      "16:27:30.624156 line         6     for i in list1:\n",
      "Modified var:.. i = 9\n",
      "16:27:30.624156 line         7         if i >10:\n",
      "16:27:30.624652 line         6     for i in list1:\n",
      "16:27:30.624652 line         9     return list2\n",
      "16:27:30.624652 return       9     return list2\n",
      "Return value:.. [12, 46, 99, 123]\n"
     ]
    },
    {
     "data": {
      "text/plain": [
       "[12, 46, 99, 123]"
      ]
     },
     "execution_count": 4,
     "metadata": {},
     "output_type": "execute_result"
    }
   ],
   "source": [
    "more_than4(list_test)"
   ]
  },
  {
   "cell_type": "code",
   "execution_count": 3,
   "metadata": {},
   "outputs": [],
   "source": [
    "list_test = [12, 3, 4, 46, 99, 123, 3, 5, 9]\n",
    "\n",
    "@pysnooper.snoop()\n",
    "def more_than4(list1):\n",
    "    list2 = []\n",
    "    for i in list1:\n",
    "        if i >10:\n",
    "            list2.append(i)\n",
    "    return list2"
   ]
  },
  {
   "cell_type": "code",
   "execution_count": 4,
   "metadata": {},
   "outputs": [
    {
     "name": "stderr",
     "output_type": "stream",
     "text": [
      "Starting var:.. list1 = [12, 3, 4, 46, 99, 123, 3, 5, 9]\n",
      "16:27:30.621181 call         4 def more_than4(list1):\n",
      "16:27:30.621678 line         5     list2 = []\n",
      "New var:....... list2 = []\n",
      "16:27:30.622172 line         6     for i in list1:\n",
      "New var:....... i = 12\n",
      "16:27:30.622172 line         7         if i >10:\n",
      "16:27:30.622172 line         8             list2.append(i)\n",
      "Modified var:.. list2 = [12]\n",
      "16:27:30.622172 line         6     for i in list1:\n",
      "Modified var:.. i = 3\n",
      "16:27:30.622669 line         7         if i >10:\n",
      "16:27:30.622669 line         6     for i in list1:\n",
      "Modified var:.. i = 4\n",
      "16:27:30.622669 line         7         if i >10:\n",
      "16:27:30.622669 line         6     for i in list1:\n",
      "Modified var:.. i = 46\n",
      "16:27:30.622669 line         7         if i >10:\n",
      "16:27:30.623165 line         8             list2.append(i)\n",
      "Modified var:.. list2 = [12, 46]\n",
      "16:27:30.623165 line         6     for i in list1:\n",
      "Modified var:.. i = 99\n",
      "16:27:30.623165 line         7         if i >10:\n",
      "16:27:30.623165 line         8             list2.append(i)\n",
      "Modified var:.. list2 = [12, 46, 99]\n",
      "16:27:30.623165 line         6     for i in list1:\n",
      "Modified var:.. i = 123\n",
      "16:27:30.623661 line         7         if i >10:\n",
      "16:27:30.623661 line         8             list2.append(i)\n",
      "Modified var:.. list2 = [12, 46, 99, 123]\n",
      "16:27:30.623661 line         6     for i in list1:\n",
      "Modified var:.. i = 3\n",
      "16:27:30.623661 line         7         if i >10:\n",
      "16:27:30.624156 line         6     for i in list1:\n",
      "Modified var:.. i = 5\n",
      "16:27:30.624156 line         7         if i >10:\n",
      "16:27:30.624156 line         6     for i in list1:\n",
      "Modified var:.. i = 9\n",
      "16:27:30.624156 line         7         if i >10:\n",
      "16:27:30.624652 line         6     for i in list1:\n",
      "16:27:30.624652 line         9     return list2\n",
      "16:27:30.624652 return       9     return list2\n",
      "Return value:.. [12, 46, 99, 123]\n"
     ]
    },
    {
     "data": {
      "text/plain": [
       "[12, 46, 99, 123]"
      ]
     },
     "execution_count": 4,
     "metadata": {},
     "output_type": "execute_result"
    }
   ],
   "source": [
    "more_than4(list_test)"
   ]
  },
  {
   "cell_type": "code",
   "execution_count": 5,
   "metadata": {},
   "outputs": [
    {
     "name": "stderr",
     "output_type": "stream",
     "text": [
      "Starting var:.. list1 = [12, 3, 4, 46, 99, 123, 3, 5, '9']\n",
      "16:34:19.511523 call         4 def more_than4(list1):\n",
      "16:34:19.511523 line         5     list2 = []\n",
      "New var:....... list2 = []\n",
      "16:34:19.512019 line         6     for i in list1:\n",
      "New var:....... i = 12\n",
      "16:34:19.512019 line         7         if i >10:\n",
      "16:34:19.512019 line         8             list2.append(i)\n",
      "Modified var:.. list2 = [12]\n",
      "16:34:19.512019 line         6     for i in list1:\n",
      "Modified var:.. i = 3\n",
      "16:34:19.512019 line         7         if i >10:\n",
      "16:34:19.512019 line         6     for i in list1:\n",
      "Modified var:.. i = 4\n",
      "16:34:19.512516 line         7         if i >10:\n",
      "16:34:19.512516 line         6     for i in list1:\n",
      "Modified var:.. i = 46\n",
      "16:34:19.512516 line         7         if i >10:\n",
      "16:34:19.513012 line         8             list2.append(i)\n",
      "Modified var:.. list2 = [12, 46]\n",
      "16:34:19.513012 line         6     for i in list1:\n",
      "Modified var:.. i = 99\n",
      "16:34:19.513012 line         7         if i >10:\n",
      "16:34:19.513012 line         8             list2.append(i)\n",
      "Modified var:.. list2 = [12, 46, 99]\n",
      "16:34:19.513012 line         6     for i in list1:\n",
      "Modified var:.. i = 123\n",
      "16:34:19.513012 line         7         if i >10:\n",
      "16:34:19.513012 line         8             list2.append(i)\n",
      "Modified var:.. list2 = [12, 46, 99, 123]\n",
      "16:34:19.513507 line         6     for i in list1:\n",
      "Modified var:.. i = 3\n",
      "16:34:19.513507 line         7         if i >10:\n",
      "16:34:19.513507 line         6     for i in list1:\n",
      "Modified var:.. i = 5\n",
      "16:34:19.513507 line         7         if i >10:\n",
      "16:34:19.513507 line         6     for i in list1:\n",
      "Modified var:.. i = '9'\n",
      "16:34:19.514003 line         7         if i >10:\n",
      "16:34:19.514003 exception    7         if i >10:\n",
      "TypeError: '>' not supported between instances of 'str' and 'int'\n",
      "Call ended by exception\n"
     ]
    },
    {
     "ename": "TypeError",
     "evalue": "'>' not supported between instances of 'str' and 'int'",
     "output_type": "error",
     "traceback": [
      "\u001b[1;31m---------------------------------------------------------------------------\u001b[0m",
      "\u001b[1;31mTypeError\u001b[0m                                 Traceback (most recent call last)",
      "\u001b[1;32m<ipython-input-5-13a89ce6e4fc>\u001b[0m in \u001b[0;36m<module>\u001b[1;34m()\u001b[0m\n\u001b[0;32m      9\u001b[0m     \u001b[1;32mreturn\u001b[0m \u001b[0mlist2\u001b[0m\u001b[1;33m\u001b[0m\u001b[0m\n\u001b[0;32m     10\u001b[0m \u001b[1;33m\u001b[0m\u001b[0m\n\u001b[1;32m---> 11\u001b[1;33m \u001b[0mmore_than4\u001b[0m\u001b[1;33m(\u001b[0m\u001b[0mlist_test\u001b[0m\u001b[1;33m)\u001b[0m\u001b[1;33m\u001b[0m\u001b[0m\n\u001b[0m",
      "\u001b[1;32mD:\\Python\\lib\\site-packages\\pysnooper\\tracer.py\u001b[0m in \u001b[0;36msimple_wrapper\u001b[1;34m(*args, **kwargs)\u001b[0m\n\u001b[0;32m    225\u001b[0m         \u001b[1;32mdef\u001b[0m \u001b[0msimple_wrapper\u001b[0m\u001b[1;33m(\u001b[0m\u001b[1;33m*\u001b[0m\u001b[0margs\u001b[0m\u001b[1;33m,\u001b[0m \u001b[1;33m**\u001b[0m\u001b[0mkwargs\u001b[0m\u001b[1;33m)\u001b[0m\u001b[1;33m:\u001b[0m\u001b[1;33m\u001b[0m\u001b[0m\n\u001b[0;32m    226\u001b[0m             \u001b[1;32mwith\u001b[0m \u001b[0mself\u001b[0m\u001b[1;33m:\u001b[0m\u001b[1;33m\u001b[0m\u001b[0m\n\u001b[1;32m--> 227\u001b[1;33m                 \u001b[1;32mreturn\u001b[0m \u001b[0mfunction\u001b[0m\u001b[1;33m(\u001b[0m\u001b[1;33m*\u001b[0m\u001b[0margs\u001b[0m\u001b[1;33m,\u001b[0m \u001b[1;33m**\u001b[0m\u001b[0mkwargs\u001b[0m\u001b[1;33m)\u001b[0m\u001b[1;33m\u001b[0m\u001b[0m\n\u001b[0m\u001b[0;32m    228\u001b[0m \u001b[1;33m\u001b[0m\u001b[0m\n\u001b[0;32m    229\u001b[0m         \u001b[1;33m@\u001b[0m\u001b[0mfunctools\u001b[0m\u001b[1;33m.\u001b[0m\u001b[0mwraps\u001b[0m\u001b[1;33m(\u001b[0m\u001b[0mfunction\u001b[0m\u001b[1;33m)\u001b[0m\u001b[1;33m\u001b[0m\u001b[0m\n",
      "\u001b[1;32m<ipython-input-5-13a89ce6e4fc>\u001b[0m in \u001b[0;36mmore_than4\u001b[1;34m(list1)\u001b[0m\n\u001b[0;32m      5\u001b[0m     \u001b[0mlist2\u001b[0m \u001b[1;33m=\u001b[0m \u001b[1;33m[\u001b[0m\u001b[1;33m]\u001b[0m\u001b[1;33m\u001b[0m\u001b[0m\n\u001b[0;32m      6\u001b[0m     \u001b[1;32mfor\u001b[0m \u001b[0mi\u001b[0m \u001b[1;32min\u001b[0m \u001b[0mlist1\u001b[0m\u001b[1;33m:\u001b[0m\u001b[1;33m\u001b[0m\u001b[0m\n\u001b[1;32m----> 7\u001b[1;33m         \u001b[1;32mif\u001b[0m \u001b[0mi\u001b[0m \u001b[1;33m>\u001b[0m\u001b[1;36m10\u001b[0m\u001b[1;33m:\u001b[0m\u001b[1;33m\u001b[0m\u001b[0m\n\u001b[0m\u001b[0;32m      8\u001b[0m             \u001b[0mlist2\u001b[0m\u001b[1;33m.\u001b[0m\u001b[0mappend\u001b[0m\u001b[1;33m(\u001b[0m\u001b[0mi\u001b[0m\u001b[1;33m)\u001b[0m\u001b[1;33m\u001b[0m\u001b[0m\n\u001b[0;32m      9\u001b[0m     \u001b[1;32mreturn\u001b[0m \u001b[0mlist2\u001b[0m\u001b[1;33m\u001b[0m\u001b[0m\n",
      "\u001b[1;31mTypeError\u001b[0m: '>' not supported between instances of 'str' and 'int'"
     ]
    }
   ],
   "source": [
    "list_test = [12, 3, 4, 46, 99, 123, 3, 5, '9']\n",
    "\n",
    "@pysnooper.snoop()\n",
    "def more_than4(list1):\n",
    "    list2 = []\n",
    "    for i in list1:\n",
    "        if i >10:\n",
    "            list2.append(i)\n",
    "    return list2\n",
    "\n",
    "more_than4(list_test)"
   ]
  },
  {
   "cell_type": "code",
   "execution_count": 35,
   "metadata": {},
   "outputs": [
    {
     "ename": "TypeError",
     "evalue": "'>' not supported between instances of 'str' and 'int'",
     "output_type": "error",
     "traceback": [
      "\u001b[1;31m---------------------------------------------------------------------------\u001b[0m",
      "\u001b[1;31mTypeError\u001b[0m                                 Traceback (most recent call last)",
      "\u001b[1;32m<ipython-input-35-65459b9ed814>\u001b[0m in \u001b[0;36m<module>\u001b[1;34m()\u001b[0m\n\u001b[0;32m      9\u001b[0m     \u001b[1;32mreturn\u001b[0m \u001b[0mlist2\u001b[0m\u001b[1;33m\u001b[0m\u001b[0m\n\u001b[0;32m     10\u001b[0m \u001b[1;33m\u001b[0m\u001b[0m\n\u001b[1;32m---> 11\u001b[1;33m \u001b[0mmore_than4\u001b[0m\u001b[1;33m(\u001b[0m\u001b[0mlist_test\u001b[0m\u001b[1;33m)\u001b[0m\u001b[1;33m\u001b[0m\u001b[0m\n\u001b[0m",
      "\u001b[1;32mD:\\Python\\lib\\site-packages\\pysnooper\\tracer.py\u001b[0m in \u001b[0;36msimple_wrapper\u001b[1;34m(*args, **kwargs)\u001b[0m\n\u001b[0;32m    225\u001b[0m         \u001b[1;32mdef\u001b[0m \u001b[0msimple_wrapper\u001b[0m\u001b[1;33m(\u001b[0m\u001b[1;33m*\u001b[0m\u001b[0margs\u001b[0m\u001b[1;33m,\u001b[0m \u001b[1;33m**\u001b[0m\u001b[0mkwargs\u001b[0m\u001b[1;33m)\u001b[0m\u001b[1;33m:\u001b[0m\u001b[1;33m\u001b[0m\u001b[0m\n\u001b[0;32m    226\u001b[0m             \u001b[1;32mwith\u001b[0m \u001b[0mself\u001b[0m\u001b[1;33m:\u001b[0m\u001b[1;33m\u001b[0m\u001b[0m\n\u001b[1;32m--> 227\u001b[1;33m                 \u001b[1;32mreturn\u001b[0m \u001b[0mfunction\u001b[0m\u001b[1;33m(\u001b[0m\u001b[1;33m*\u001b[0m\u001b[0margs\u001b[0m\u001b[1;33m,\u001b[0m \u001b[1;33m**\u001b[0m\u001b[0mkwargs\u001b[0m\u001b[1;33m)\u001b[0m\u001b[1;33m\u001b[0m\u001b[0m\n\u001b[0m\u001b[0;32m    228\u001b[0m \u001b[1;33m\u001b[0m\u001b[0m\n\u001b[0;32m    229\u001b[0m         \u001b[1;33m@\u001b[0m\u001b[0mfunctools\u001b[0m\u001b[1;33m.\u001b[0m\u001b[0mwraps\u001b[0m\u001b[1;33m(\u001b[0m\u001b[0mfunction\u001b[0m\u001b[1;33m)\u001b[0m\u001b[1;33m\u001b[0m\u001b[0m\n",
      "\u001b[1;32m<ipython-input-35-65459b9ed814>\u001b[0m in \u001b[0;36mmore_than4\u001b[1;34m(list1)\u001b[0m\n\u001b[0;32m      5\u001b[0m     \u001b[0mlist2\u001b[0m \u001b[1;33m=\u001b[0m \u001b[1;33m[\u001b[0m\u001b[1;33m]\u001b[0m\u001b[1;33m\u001b[0m\u001b[0m\n\u001b[0;32m      6\u001b[0m     \u001b[1;32mfor\u001b[0m \u001b[0mi\u001b[0m \u001b[1;32min\u001b[0m \u001b[0mlist1\u001b[0m\u001b[1;33m:\u001b[0m\u001b[1;33m\u001b[0m\u001b[0m\n\u001b[1;32m----> 7\u001b[1;33m         \u001b[1;32mif\u001b[0m \u001b[0mi\u001b[0m \u001b[1;33m>\u001b[0m\u001b[1;36m10\u001b[0m\u001b[1;33m:\u001b[0m\u001b[1;33m\u001b[0m\u001b[0m\n\u001b[0m\u001b[0;32m      8\u001b[0m             \u001b[0mlist2\u001b[0m\u001b[1;33m.\u001b[0m\u001b[0mappend\u001b[0m\u001b[1;33m(\u001b[0m\u001b[0mi\u001b[0m\u001b[1;33m)\u001b[0m\u001b[1;33m\u001b[0m\u001b[0m\n\u001b[0;32m      9\u001b[0m     \u001b[1;32mreturn\u001b[0m \u001b[0mlist2\u001b[0m\u001b[1;33m\u001b[0m\u001b[0m\n",
      "\u001b[1;31mTypeError\u001b[0m: '>' not supported between instances of 'str' and 'int'"
     ]
    }
   ],
   "source": [
    "list_test = [12, 3, 4, 46, 99, 123, 3, 5, '9']\n",
    "\n",
    "@pysnooper.snoop('pysnooper_test.log')\n",
    "def more_than4(list1):\n",
    "    list2 = []\n",
    "    for i in list1:\n",
    "        if i >10:\n",
    "            list2.append(i)\n",
    "    return list2\n",
    "\n",
    "more_than4(list_test)"
   ]
  },
  {
   "cell_type": "markdown",
   "metadata": {},
   "source": [
    "#### c. 測試"
   ]
  },
  {
   "cell_type": "markdown",
   "metadata": {},
   "source": [
    "* 文檔測試(doc test)"
   ]
  },
  {
   "cell_type": "code",
   "execution_count": 1,
   "metadata": {},
   "outputs": [],
   "source": [
    "import doctest"
   ]
  },
  {
   "cell_type": "code",
   "execution_count": 2,
   "metadata": {},
   "outputs": [],
   "source": [
    "def Sum(a ,b):\n",
    "    return a + b"
   ]
  },
  {
   "cell_type": "code",
   "execution_count": 3,
   "metadata": {},
   "outputs": [],
   "source": [
    "def Sum(a ,b):\n",
    "    \"\"\"doc test demo\n",
    "    >>> Sum(1,2)\n",
    "    3\n",
    "    >>> Sum('花千古','白子畫')\n",
    "    ['花千古','白子畫']\n",
    "    \"\"\"  \n",
    "    return a + b"
   ]
  },
  {
   "cell_type": "code",
   "execution_count": 4,
   "metadata": {},
   "outputs": [
    {
     "name": "stdout",
     "output_type": "stream",
     "text": [
      "Trying:\n",
      "    Sum(1,2)\n",
      "Expecting:\n",
      "    3\n",
      "ok\n",
      "Trying:\n",
      "    Sum('花千古','白子畫')\n",
      "Expecting:\n",
      "    ['花千古','白子畫']\n",
      "**********************************************************************\n",
      "File \"__main__\", line 5, in __main__.Sum\n",
      "Failed example:\n",
      "    Sum('花千古','白子畫')\n",
      "Expected:\n",
      "    ['花千古','白子畫']\n",
      "Got:\n",
      "    '花千古白子畫'\n",
      "1 items had no tests:\n",
      "    __main__\n",
      "**********************************************************************\n",
      "1 items had failures:\n",
      "   1 of   2 in __main__.Sum\n",
      "2 tests in 2 items.\n",
      "1 passed and 1 failed.\n",
      "***Test Failed*** 1 failures.\n"
     ]
    },
    {
     "data": {
      "text/plain": [
       "TestResults(failed=1, attempted=2)"
      ]
     },
     "execution_count": 4,
     "metadata": {},
     "output_type": "execute_result"
    }
   ],
   "source": [
    "doctest.testmod(verbose=True)"
   ]
  },
  {
   "cell_type": "code",
   "execution_count": 37,
   "metadata": {},
   "outputs": [],
   "source": [
    "def Sum(a ,b):\n",
    "    \"\"\"doc test demo\n",
    "    >>> Sum(1,2)\n",
    "    3\n",
    "    >>> Sum('花千古','白子畫')\n",
    "    '花千古白子畫'\n",
    "    \"\"\"  \n",
    "    return a + b"
   ]
  },
  {
   "cell_type": "code",
   "execution_count": 38,
   "metadata": {},
   "outputs": [
    {
     "name": "stdout",
     "output_type": "stream",
     "text": [
      "Trying:\n",
      "    Sum(1,2)\n",
      "Expecting:\n",
      "    3\n",
      "ok\n",
      "Trying:\n",
      "    Sum('花千古','白子畫')\n",
      "Expecting:\n",
      "    '花千古白子畫'\n",
      "ok\n",
      "2 items had no tests:\n",
      "    __main__\n",
      "    __main__.more_than4\n",
      "1 items passed all tests:\n",
      "   2 tests in __main__.Sum\n",
      "2 tests in 3 items.\n",
      "2 passed and 0 failed.\n",
      "Test passed.\n"
     ]
    },
    {
     "data": {
      "text/plain": [
       "TestResults(failed=0, attempted=2)"
      ]
     },
     "execution_count": 38,
     "metadata": {},
     "output_type": "execute_result"
    }
   ],
   "source": [
    "import doctest\n",
    "doctest.testmod(verbose=True)"
   ]
  },
  {
   "cell_type": "markdown",
   "metadata": {},
   "source": [
    "* 單元測試(unit test)\n",
    " * 測試都是以`class`的形式定義\n",
    " * 測試類都必須是`unitest.TestCase`的子類\n",
    " * 測試類裡面的`method`都必須是以`test_`為開頭\n",
    " * 使用`assert`去檢查預期結果和實際結果是否相符合\n",
    " * 測試之前需要用`setUp()`方法來設定測試規範和變量\n",
    " * 測試之後需要用`tearDown()`方法來刪除測試前所設定的變量\n",
    " * 使用 `python -m unitest -v test_midule`來執行"
   ]
  },
  {
   "cell_type": "code",
   "execution_count": 1,
   "metadata": {},
   "outputs": [],
   "source": [
    "import unittest\n",
    "from python_package.sample_math import my_max , my_min"
   ]
  },
  {
   "cell_type": "code",
   "execution_count": 6,
   "metadata": {},
   "outputs": [
    {
     "name": "stderr",
     "output_type": "stream",
     "text": [
      "test_my_max (__main__.TestSampleMath) ... ok\n",
      "\n",
      "----------------------------------------------------------------------\n",
      "Ran 1 test in 0.001s\n",
      "\n",
      "OK\n"
     ]
    },
    {
     "data": {
      "text/plain": [
       "<unittest.main.TestProgram at 0x24e9afde128>"
      ]
     },
     "execution_count": 6,
     "metadata": {},
     "output_type": "execute_result"
    }
   ],
   "source": [
    "class TestSampleMath(unittest.TestCase):\n",
    "    \n",
    "    def test_my_max(self):\n",
    "        self.assertEqual(my_max([1, 2, 3, 4])  , 4)\n",
    "\n",
    "        \n",
    "unittest.main(argv=[''], verbosity=2, exit=False)"
   ]
  },
  {
   "cell_type": "code",
   "execution_count": 9,
   "metadata": {},
   "outputs": [
    {
     "name": "stderr",
     "output_type": "stream",
     "text": [
      "test_my_max (__main__.TestSampleMath) ... FAIL\n",
      "\n",
      "======================================================================\n",
      "FAIL: test_my_max (__main__.TestSampleMath)\n",
      "----------------------------------------------------------------------\n",
      "Traceback (most recent call last):\n",
      "  File \"<ipython-input-9-0ca0da57a5a5>\", line 4, in test_my_max\n",
      "    self.assertEqual(my_max([1, 2, 3, 4])  , 15)\n",
      "AssertionError: 4 != 15\n",
      "\n",
      "----------------------------------------------------------------------\n",
      "Ran 1 test in 0.002s\n",
      "\n",
      "FAILED (failures=1)\n"
     ]
    },
    {
     "data": {
      "text/plain": [
       "<unittest.main.TestProgram at 0x24e9affa358>"
      ]
     },
     "execution_count": 9,
     "metadata": {},
     "output_type": "execute_result"
    }
   ],
   "source": [
    "# 錯誤範例-測試類裡面的`method`都必須是以`test_`為開頭\n",
    "class TestSampleMath(unittest.TestCase):\n",
    "    \n",
    "    def test_my_max(self):\n",
    "        self.assertEqual(my_max([1, 2, 3, 4])  , 15)\n",
    "\n",
    "    def tet_my_min(self):\n",
    "        self.assertEqual(my_min([2, 3, 4, 5])  , 2)\n",
    "    \n",
    "    \n",
    "unittest.main(argv=[''], verbosity=2, exit=False)"
   ]
  },
  {
   "cell_type": "code",
   "execution_count": 10,
   "metadata": {},
   "outputs": [
    {
     "name": "stderr",
     "output_type": "stream",
     "text": [
      "test_my_max (__main__.TestSampleMath) ... FAIL\n",
      "test_my_min (__main__.TestSampleMath) ... ok\n",
      "\n",
      "======================================================================\n",
      "FAIL: test_my_max (__main__.TestSampleMath)\n",
      "----------------------------------------------------------------------\n",
      "Traceback (most recent call last):\n",
      "  File \"<ipython-input-10-fe8deda68df2>\", line 4, in test_my_max\n",
      "    self.assertEqual(my_max([1, 2, 3, 4])  , 15)\n",
      "AssertionError: 4 != 15\n",
      "\n",
      "----------------------------------------------------------------------\n",
      "Ran 2 tests in 0.003s\n",
      "\n",
      "FAILED (failures=1)\n"
     ]
    },
    {
     "data": {
      "text/plain": [
       "<unittest.main.TestProgram at 0x24e9b0045f8>"
      ]
     },
     "execution_count": 10,
     "metadata": {},
     "output_type": "execute_result"
    }
   ],
   "source": [
    "# 可以在方法裡面新增測試案例\n",
    "class TestSampleMath(unittest.TestCase):\n",
    "    \n",
    "    def test_my_max(self):\n",
    "        self.assertEqual(my_max([1, 2, 3, 4])  , 15)\n",
    "        self.assertEqual(my_max([33, 45, 66])  , 66)\n",
    "        \n",
    "        \n",
    "        \n",
    "    def test_my_min(self):\n",
    "        self.assertEqual(my_min([2, 3, 4, 5])  , 2)\n",
    "    \n",
    "    \n",
    "unittest.main(argv=[''], verbosity=2, exit=False)"
   ]
  },
  {
   "cell_type": "code",
   "execution_count": 11,
   "metadata": {},
   "outputs": [
    {
     "name": "stderr",
     "output_type": "stream",
     "text": [
      "test_my_max (__main__.TestSampleMath) ... ok\n",
      "test_my_min (__main__.TestSampleMath) ... ok\n",
      "\n",
      "----------------------------------------------------------------------\n",
      "Ran 2 tests in 0.003s\n",
      "\n",
      "OK\n"
     ]
    },
    {
     "data": {
      "text/plain": [
       "<unittest.main.TestProgram at 0x24e9affaf60>"
      ]
     },
     "execution_count": 11,
     "metadata": {},
     "output_type": "execute_result"
    }
   ],
   "source": [
    "# assert裡面有很多用法 以下示範not equal\n",
    "class TestSampleMath(unittest.TestCase):\n",
    "    \n",
    "    def test_my_max(self):\n",
    "        self.assertNotEqual(my_max([1, 2, 3, 4])  , 15)\n",
    "        self.assertEqual(my_max([33, 45, 66])  , 66)\n",
    "        \n",
    "        \n",
    "        \n",
    "    def test_my_min(self):\n",
    "        self.assertEqual(my_min([2, 3, 4, 5])  , 2)\n",
    "    \n",
    "    \n",
    "unittest.main(argv=[''], verbosity=2, exit=False)"
   ]
  },
  {
   "cell_type": "code",
   "execution_count": 2,
   "metadata": {},
   "outputs": [
    {
     "name": "stderr",
     "output_type": "stream",
     "text": [
      "test_error (__main__.TestSampleMath) ... ok\n",
      "test_my_max (__main__.TestSampleMath) ... ok\n",
      "test_my_min (__main__.TestSampleMath) ... ok\n",
      "\n",
      "----------------------------------------------------------------------\n",
      "Ran 3 tests in 0.009s\n",
      "\n",
      "OK\n"
     ]
    },
    {
     "data": {
      "text/plain": [
       "<unittest.main.TestProgram at 0x26f12a1e2b0>"
      ]
     },
     "execution_count": 2,
     "metadata": {},
     "output_type": "execute_result"
    }
   ],
   "source": [
    "# 如果要測試自定義錯誤 assert Raises\n",
    "class TestSampleMath(unittest.TestCase):\n",
    "    \n",
    "    def test_my_max(self):\n",
    "        self.assertNotEqual(my_max([1, 2, 3, 4])  , 15)\n",
    "        self.assertEqual(my_max([33, 45, 66])  , 66)\n",
    "    \n",
    "    def test_my_min(self):\n",
    "        self.assertEqual(my_min([2, 3, 4, 5])  , 2)\n",
    "    \n",
    "    def test_error(self):\n",
    "        self.assertRaises(ValueError, my_max, [])\n",
    "    \n",
    "unittest.main(argv=[''], verbosity=2, exit=False)"
   ]
  },
  {
   "cell_type": "code",
   "execution_count": 3,
   "metadata": {},
   "outputs": [
    {
     "name": "stderr",
     "output_type": "stream",
     "text": [
      "test_error (__main__.TestSampleMath) ... FAIL\n",
      "test_my_max (__main__.TestSampleMath) ... ok\n",
      "test_my_min (__main__.TestSampleMath) ... ok\n",
      "\n",
      "======================================================================\n",
      "FAIL: test_error (__main__.TestSampleMath)\n",
      "----------------------------------------------------------------------\n",
      "Traceback (most recent call last):\n",
      "  File \"<ipython-input-3-5c18016f72ac>\", line 11, in test_error\n",
      "    self.assertRaises(ValueError, my_max, [1,2])\n",
      "AssertionError: ValueError not raised by my_max\n",
      "\n",
      "----------------------------------------------------------------------\n",
      "Ran 3 tests in 0.004s\n",
      "\n",
      "FAILED (failures=1)\n"
     ]
    },
    {
     "data": {
      "text/plain": [
       "<unittest.main.TestProgram at 0x26f12a1e5f8>"
      ]
     },
     "execution_count": 3,
     "metadata": {},
     "output_type": "execute_result"
    }
   ],
   "source": [
    "# 給對的答案是不會觸發error的，所以會報錯\n",
    "class TestSampleMath(unittest.TestCase):\n",
    "    \n",
    "    def test_my_max(self):\n",
    "        self.assertNotEqual(my_max([1, 2, 3, 4])  , 15)\n",
    "        self.assertEqual(my_max([33, 45, 66])  , 66)\n",
    "    \n",
    "    def test_my_min(self):\n",
    "        self.assertEqual(my_min([2, 3, 4, 5])  , 2)\n",
    "    \n",
    "    def test_error(self):\n",
    "        self.assertRaises(ValueError, my_max, [1,2])\n",
    "    \n",
    "unittest.main(argv=[''], verbosity=2, exit=False)"
   ]
  },
  {
   "cell_type": "markdown",
   "metadata": {},
   "source": [
    "#### d. python的運行日誌"
   ]
  },
  {
   "cell_type": "code",
   "execution_count": 9,
   "metadata": {},
   "outputs": [],
   "source": [
    "import logging"
   ]
  },
  {
   "cell_type": "markdown",
   "metadata": {},
   "source": [
    "* 日誌紀錄的等級"
   ]
  },
  {
   "cell_type": "code",
   "execution_count": 32,
   "metadata": {},
   "outputs": [
    {
     "name": "stderr",
     "output_type": "stream",
     "text": [
      "WARNING:root:This is warning\n",
      "ERROR:root:This is error\n",
      "CRITICAL:root:This is Critical\n"
     ]
    }
   ],
   "source": [
    "logging.debug('This is debug')\n",
    "logging.info('This is info')\n",
    "logging.warning('This is warning')\n",
    "logging.error('This is error')\n",
    "logging.critical('This is Critical')"
   ]
  },
  {
   "cell_type": "code",
   "execution_count": 33,
   "metadata": {},
   "outputs": [],
   "source": [
    "logging.getLogger('').handlers = [] ##清空上面logging的設定\n",
    "logging.basicConfig(level='DEBUG')"
   ]
  },
  {
   "cell_type": "code",
   "execution_count": 34,
   "metadata": {},
   "outputs": [
    {
     "name": "stderr",
     "output_type": "stream",
     "text": [
      "DEBUG:root:This is debug\n",
      "INFO:root:This is info\n",
      "WARNING:root:This is warning\n",
      "ERROR:root:This is error\n",
      "CRITICAL:root:This is Critical\n"
     ]
    }
   ],
   "source": [
    "logging.debug('This is debug')\n",
    "logging.info('This is info')\n",
    "logging.warning('This is warning')\n",
    "logging.error('This is error')\n",
    "logging.critical('This is Critical')"
   ]
  },
  {
   "cell_type": "code",
   "execution_count": 38,
   "metadata": {},
   "outputs": [],
   "source": [
    "logging.getLogger('').handlers = [] ##清空上面logging的設定\n",
    "logging.basicConfig(level='DEBUG' , filename = 'logging_test.log') #寫到設定的路徑\n",
    "logging.debug('This is debug')\n",
    "logging.info('This is info')\n",
    "logging.warning('This is warning')\n",
    "logging.error('This is error')\n",
    "logging.critical('This is Critical')"
   ]
  },
  {
   "cell_type": "code",
   "execution_count": 40,
   "metadata": {},
   "outputs": [],
   "source": [
    "logging.getLogger('').handlers = [] ##清空上面logging的設定\n",
    "logging.basicConfig(level='DEBUG' , filename = 'logging_test.log' ,filemode ='w') #寫到設定的路徑\n",
    "logging.debug('This is debug')\n",
    "logging.info('This is info')\n",
    "logging.warning('This is warning')\n",
    "logging.error('This is error')\n",
    "logging.critical('This is Critical')"
   ]
  },
  {
   "cell_type": "markdown",
   "metadata": {},
   "source": [
    "* 日誌紀錄的格式\n",
    " * 格式說明:https://docs.python.org/3/library/logging.html#logrecord-attributes"
   ]
  },
  {
   "cell_type": "code",
   "execution_count": 41,
   "metadata": {},
   "outputs": [],
   "source": [
    "logging.basicConfig(level='INFO')"
   ]
  },
  {
   "cell_type": "code",
   "execution_count": 42,
   "metadata": {},
   "outputs": [
    {
     "data": {
      "text/plain": [
       "'%(levelname)s:%(name)s:%(message)s'"
      ]
     },
     "execution_count": 42,
     "metadata": {},
     "output_type": "execute_result"
    }
   ],
   "source": [
    "logging.BASIC_FORMAT"
   ]
  },
  {
   "cell_type": "code",
   "execution_count": 49,
   "metadata": {},
   "outputs": [
    {
     "name": "stderr",
     "output_type": "stream",
     "text": [
      "2019-07-15 17:57:58,095--DEBUG--root--log--6--This is debug\n",
      "2019-07-15 17:57:58,096--INFO--root--log--7--This is info\n",
      "2019-07-15 17:57:58,097--WARNING--root--log--8--This is warning\n",
      "2019-07-15 17:57:58,098--ERROR--root--log--9--This is error\n",
      "2019-07-15 17:57:58,100--CRITICAL--root--log--10--This is Critical\n"
     ]
    }
   ],
   "source": [
    "log_format = '%(asctime)s--%(levelname)s--%(name)s--%(funcName)s--%(lineno)d--%(message)s'\n",
    "\n",
    "def log():\n",
    "    logging.getLogger('').handlers = [] ##清空上面logging的設定\n",
    "    logging.basicConfig(level='DEBUG', format = log_format) #寫到設定的路徑\n",
    "    logging.debug('This is debug')\n",
    "    logging.info('This is info')\n",
    "    logging.warning('This is warning')\n",
    "    logging.error('This is error')\n",
    "    logging.critical('This is Critical')\n",
    "\n",
    "log()"
   ]
  }
 ],
 "metadata": {
  "kernelspec": {
   "display_name": "Python 3",
   "language": "python",
   "name": "python3"
  },
  "language_info": {
   "codemirror_mode": {
    "name": "ipython",
    "version": 3
   },
   "file_extension": ".py",
   "mimetype": "text/x-python",
   "name": "python",
   "nbconvert_exporter": "python",
   "pygments_lexer": "ipython3",
   "version": "3.6.5"
  }
 },
 "nbformat": 4,
 "nbformat_minor": 2
}
